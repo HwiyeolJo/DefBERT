{
 "cells": [
  {
   "cell_type": "code",
   "execution_count": 1,
   "id": "2d8d49fb-6bc9-4ca1-84a1-66ee95447303",
   "metadata": {},
   "outputs": [
    {
     "name": "stdout",
     "output_type": "stream",
     "text": [
      "cuda\n"
     ]
    }
   ],
   "source": [
    "import torch\n",
    "import torch.nn as nn\n",
    "import os\n",
    "import re\n",
    "from pathlib import Path\n",
    "\n",
    "# import gluonnlp\n",
    "import numpy as np\n",
    "from scipy import stats\n",
    "import torch\n",
    "import torch.nn as nn \n",
    "\n",
    "GPUIdx = \"3\"\n",
    "\n",
    "os.environ[\"CUDA_DEVICE_ORDER\"]=\"PCI_BUS_ID\"\n",
    "os.environ[\"CUDA_VISIBLE_DEVICES\"]= GPUIdx\n",
    "\n",
    "from tqdm.auto import tqdm\n",
    "\n",
    "device = torch.device('cuda' if torch.cuda.is_available() else 'cpu')\n",
    "print(device)"
   ]
  },
  {
   "cell_type": "code",
   "execution_count": 2,
   "id": "26c43743-93d8-406b-8418-a89e7e285989",
   "metadata": {},
   "outputs": [
    {
     "name": "stderr",
     "output_type": "stream",
     "text": [
      "Some weights of the model checkpoint at bert-base-uncased were not used when initializing BertModel: ['cls.seq_relationship.bias', 'cls.predictions.decoder.weight', 'cls.predictions.transform.LayerNorm.weight', 'cls.seq_relationship.weight', 'cls.predictions.transform.LayerNorm.bias', 'cls.predictions.transform.dense.weight', 'cls.predictions.transform.dense.bias', 'cls.predictions.bias']\n",
      "- This IS expected if you are initializing BertModel from the checkpoint of a model trained on another task or with another architecture (e.g. initializing a BertForSequenceClassification model from a BertForPreTraining model).\n",
      "- This IS NOT expected if you are initializing BertModel from the checkpoint of a model that you expect to be exactly identical (initializing a BertForSequenceClassification model from a BertForSequenceClassification model).\n"
     ]
    }
   ],
   "source": [
    "from transformers import AutoTokenizer, AutoModel\n",
    "Tokenizer = AutoTokenizer.from_pretrained('bert-base-uncased')\n",
    "Embedding = AutoModel.from_pretrained('bert-base-uncased')"
   ]
  },
  {
   "cell_type": "code",
   "execution_count": 3,
   "id": "0b8c4b5b-e615-4829-a2a9-fba3ef049d5d",
   "metadata": {},
   "outputs": [
    {
     "data": {
      "application/vnd.jupyter.widget-view+json": {
       "model_id": "cfd32ff4351e47a58cb7770c98581972",
       "version_major": 2,
       "version_minor": 0
      },
      "text/plain": [
       "  0%|          | 0/1 [00:00<?, ?it/s]"
      ]
     },
     "metadata": {},
     "output_type": "display_data"
    },
    {
     "name": "stdout",
     "output_type": "stream",
     "text": [
      "30533 512\n"
     ]
    }
   ],
   "source": [
    "UNCASE = True\n",
    "\n",
    "# FileObject = open(\"../../Data/DefinitionDataset/LexicoDefinition.txt\", 'r', encoding='utf-8')\n",
    "FileObject = open(\"./data/DefinitionDataset.txt\", 'r', encoding='utf-8')\n",
    "VocabDefExamDict = {}\n",
    "MAX_SEQ_LEN = 512\n",
    "pbar = tqdm(total = 1)\n",
    "for line in FileObject:\n",
    "    Contents = line.split(\" (def.) \")\n",
    "    Word = Contents[0].strip()\n",
    "#     print(Word)\n",
    "    if UNCASE: Word = Word.lower()\n",
    "    ### Word -> Definition1 -> [ex1, ex2]\n",
    "    Defs = {}\n",
    "    for c in Contents[1:]:\n",
    "        c = c.split(\" (ex.)\")\n",
    "        Def = c[0].strip(); Examples = c[1].strip()\n",
    "        if UNCASE:\n",
    "            Def = Def.lower()\n",
    "            Examples = Examples.lower()\n",
    "            \n",
    "        Examples = Examples.split(' | ')\n",
    "        ### When don't know MAX_SEQ_LEN\n",
    "#         SEQ_LEN =  max(*[len(Tokenizer.encode(e)) for e in Examples], len(Tokenizer.encode(Def)))\n",
    "#         if SEQ_LEN > MAX_SEQ_LEN:\n",
    "#             MAX_SEQ_LEN = SEQ_LEN\n",
    "        Defs[Def] = Examples if len(Examples) else ''\n",
    "    \n",
    "    if Word in VocabDefExamDict.keys():\n",
    "        VocabDefExamDict[Word].update(Defs)\n",
    "    else:\n",
    "        VocabDefExamDict[Word] = Defs\n",
    "    pbar.update(1)\n",
    "pbar.close()\n",
    "\n",
    "MAX_SEQ_LEN = min(512, MAX_SEQ_LEN)\n",
    "MAX_SEQ_LEN = max(256, MAX_SEQ_LEN)\n",
    "\n",
    "print(len(VocabDefExamDict), MAX_SEQ_LEN)"
   ]
  },
  {
   "cell_type": "code",
   "execution_count": 4,
   "id": "75bf2f8e-6a06-4a6f-b3dd-46d5f79b38d0",
   "metadata": {},
   "outputs": [
    {
     "name": "stdout",
     "output_type": "stream",
     "text": [
      "len(VocabDefExamDict.keys()) = 30533\n",
      "np.sum(DefNum) = 93227\n",
      "np.max(DefNum) = 76\n",
      "np.mean(DefSeqNum) = 10.503995623585443\n",
      "np.sum(ExamNum) = 1171533\n",
      "np.max(ExamNum) = 85\n",
      "np.mean(ExamSeqNum) = 18.03715046865944\n"
     ]
    }
   ],
   "source": [
    "print(f\"{len(VocabDefExamDict.keys()) = }\")\n",
    "DefNum = []\n",
    "DefSeqNum = []\n",
    "for v in VocabDefExamDict.keys():\n",
    "    DefNum += [ len(VocabDefExamDict[v]) ]\n",
    "    DefSeqNum += [ len(d.split()) for d in VocabDefExamDict[v] ]\n",
    "#     DefSeqNum += [len(d.split()) for d in VocabDefExamDict[k].keys()]\n",
    "print(f\"{np.sum(DefNum) = }\")\n",
    "print(f\"{np.max(DefNum) = }\")\n",
    "print(f\"{np.mean(DefSeqNum) = }\")\n",
    "# print(np.max(DefSeqNum))\n",
    "\n",
    "ExamNum = []\n",
    "ExamSeqNum = []\n",
    "for v in VocabDefExamDict.keys():\n",
    "    for d in VocabDefExamDict[v].keys():\n",
    "        ExamNum += [ len(VocabDefExamDict[v][d]) ]\n",
    "        ExamSeqNum += [ len(ex.split()) for ex in VocabDefExamDict[v][d] ]\n",
    "\n",
    "print(f\"{np.sum(ExamNum) = }\")\n",
    "print(f\"{np.max(ExamNum) = }\")\n",
    "print(f\"{np.mean(ExamSeqNum) = }\")"
   ]
  },
  {
   "cell_type": "code",
   "execution_count": 5,
   "id": "7a696c1c-a2c7-4352-a3ea-51daca851264",
   "metadata": {},
   "outputs": [
    {
     "data": {
      "application/vnd.jupyter.widget-view+json": {
       "model_id": "ce04cc787ced4fd3a8dc5e7fc4c39a02",
       "version_major": 2,
       "version_minor": 0
      },
      "text/plain": [
       "  0%|          | 0/30533 [00:00<?, ?it/s]"
      ]
     },
     "metadata": {},
     "output_type": "display_data"
    },
    {
     "data": {
      "application/vnd.jupyter.widget-view+json": {
       "model_id": "752a88a7bd1349ada5fb4ec43376ff61",
       "version_major": 2,
       "version_minor": 0
      },
      "text/plain": [
       "  0%|          | 0/30533 [00:00<?, ?it/s]"
      ]
     },
     "metadata": {},
     "output_type": "display_data"
    },
    {
     "data": {
      "application/vnd.jupyter.widget-view+json": {
       "model_id": "9fa9dacd0fee48dfbece30bc8ed32144",
       "version_major": 2,
       "version_minor": 0
      },
      "text/plain": [
       "  0%|          | 0/30533 [00:00<?, ?it/s]"
      ]
     },
     "metadata": {},
     "output_type": "display_data"
    },
    {
     "data": {
      "application/vnd.jupyter.widget-view+json": {
       "model_id": "a7495b94ad584f919666afd34a99bc23",
       "version_major": 2,
       "version_minor": 0
      },
      "text/plain": [
       "  0%|          | 0/30533 [00:00<?, ?it/s]"
      ]
     },
     "metadata": {},
     "output_type": "display_data"
    }
   ],
   "source": [
    "PAIR_list = [\"Word-Word\", \"Word-Def\", \"Word-ExamWord\", \"Def-ExamWord\"]\n",
    "PAIR_cnt = dict(zip(PAIR_list, [0]*len(PAIR_list)))\n",
    "\n",
    "WordDef_train_src, DefExam_train_src, WordExam_train_src = [], [], []\n",
    "WordWord_train_src, WordExWord_train_src, DefExWord_train_src = [], [], []\n",
    "WordDef_train_tgt, DefExam_train_tgt, WordExam_train_tgt = [], [], []\n",
    "WordWord_train_tgt, WordExWord_train_tgt, DefExWord_train_tgt = [], [], []\n",
    "\n",
    "### Saved Indices\n",
    "for PAIR in PAIR_list:\n",
    "    pbar = tqdm(total=len(VocabDefExamDict))\n",
    "    for Word in VocabDefExamDict:\n",
    "        if PAIR == \"Word-Word\":\n",
    "            WordWord_train_src.append(Word+'|'+Word)\n",
    "            WordWord_train_tgt.append(Word+'|'+Word)\n",
    "            PAIR_cnt[PAIR] += 1\n",
    "        \n",
    "        elif PAIR == \"Word-Def\":\n",
    "            Defs = list(VocabDefExamDict[Word].keys())\n",
    "            for d in Defs:\n",
    "                WordDef_train_src.append(Word+'|'+Word)\n",
    "                WordDef_train_tgt.append(Word+'|'+d)\n",
    "                PAIR_cnt[PAIR] += 1\n",
    "                \n",
    "        elif PAIR == \"Word-ExamWord\":\n",
    "            w = VocabDefExamDict[Word]\n",
    "            Defs = list(w.keys())\n",
    "            for d in Defs:\n",
    "                for ex in w[d]:\n",
    "                    if ex != '':\n",
    "                        WordExWord_train_src.append(Word+'|'+Word)\n",
    "                        WordExWord_train_tgt.append(Word+'|'+ex)\n",
    "                        PAIR_cnt[PAIR] += 1\n",
    "                        \n",
    "        elif PAIR == \"Def-ExamWord\":\n",
    "            w = VocabDefExamDict[Word]\n",
    "            Defs = list(w.keys())\n",
    "            for d in Defs:\n",
    "                for ex in w[d]:\n",
    "                    if ex != '':\n",
    "                        DefExWord_train_src.append(Word+'|'+d)\n",
    "                        DefExWord_train_tgt.append(Word+'|'+ex)\n",
    "                        PAIR_cnt[PAIR] += 1\n",
    "        else:\n",
    "            print(\"Out-of-Bound\")\n",
    "            break\n",
    "        ### For Debug\n",
    "#         break\n",
    "        pbar.update(1)\n",
    "    pbar.close()"
   ]
  },
  {
   "cell_type": "code",
   "execution_count": 6,
   "id": "5a12e0a8-feba-462a-839b-562fbe54846f",
   "metadata": {},
   "outputs": [],
   "source": [
    "from torch.utils.data import Dataset, DataLoader\n",
    "\n",
    "class DefinitionDataset(Dataset):\n",
    "    def __init__(self, x=None, y=None):\n",
    "        self.x = x\n",
    "        self.y = y\n",
    "        self.len = len(self.x)\n",
    "        self.token_config = {\"truncation\": True, \"padding\": \"max_length\",\n",
    "                            \"max_length\": MAX_SEQ_LEN, \"return_tensors\": \"pt\"}\n",
    "    def __getitem__(self, index):\n",
    "        target_w = self.x[index].split('|')[0]\n",
    "        x = self.x[index].split('|')[1]\n",
    "        y = self.y[index].split('|')[1]\n",
    "        w_tokenized = Tokenizer(target_w, add_special_tokens=False, padding=\"max_length\",\n",
    "                                max_length=10, return_tensors=\"pt\")\n",
    "        x_tokenized = Tokenizer(x, **self.token_config)\n",
    "        y_tokenized = Tokenizer(y, **self.token_config)\n",
    "        return w_tokenized, x_tokenized, y_tokenized\n",
    "    \n",
    "    def __len__(self):\n",
    "        return self.len"
   ]
  },
  {
   "cell_type": "code",
   "execution_count": 7,
   "id": "4410f01c-71fd-42da-a8ad-db1eb9015990",
   "metadata": {},
   "outputs": [
    {
     "name": "stdout",
     "output_type": "stream",
     "text": [
      "30533 93227 1167055 1167055\n"
     ]
    }
   ],
   "source": [
    "import random\n",
    "\n",
    "Hyperparams = {\n",
    "    \"NumEpochs\": 10,\n",
    "    \"BatchSize\": 2**7,\n",
    "#     \"BatchSize\": 2**5,\n",
    "#     \"LearningRate\": 2e-3,\n",
    "    \"LearningRate\": 1e-5,\n",
    "}\n",
    "\n",
    "train_dataset_WordWord = DefinitionDataset(x=WordWord_train_src, y=WordWord_train_tgt) if len(WordWord_train_src) else None\n",
    "train_dataset_WordDef = DefinitionDataset(x=WordDef_train_src, y=WordDef_train_tgt) if len(WordDef_train_src) else None\n",
    "train_dataset_WordExWord = DefinitionDataset(x=WordExWord_train_src, y=WordExWord_train_tgt) if len(WordExWord_train_src) else None\n",
    "train_dataset_DefExWord = DefinitionDataset(x=DefExWord_train_src, y=DefExWord_train_tgt)  if len(DefExWord_train_src) else None\n",
    "\n",
    "train_loader_WordWord = DataLoader(dataset=train_dataset_WordWord, batch_size=Hyperparams[\"BatchSize\"], shuffle=True, num_workers=0)\n",
    "train_loader_WordDef = DataLoader(dataset=train_dataset_WordDef, batch_size=Hyperparams[\"BatchSize\"], shuffle=True, num_workers=0)\n",
    "train_loader_WordExWord = DataLoader(dataset=train_dataset_WordExWord, batch_size=Hyperparams[\"BatchSize\"], shuffle=True, num_workers=0)\n",
    "train_loader_DefExWord = DataLoader(dataset=train_dataset_DefExWord, batch_size=Hyperparams[\"BatchSize\"], shuffle=True, num_workers=0)\n",
    "\n",
    "print(len(WordWord_train_src), len(WordDef_train_src), len(WordExWord_train_src), len(DefExWord_train_src))"
   ]
  },
  {
   "cell_type": "code",
   "execution_count": 8,
   "id": "aacb1d37-d262-4ce9-b247-0d17faf6fe0a",
   "metadata": {},
   "outputs": [],
   "source": [
    "def DistanceChecker(word_token_ids, DistanceInfo, Emb1, Emb2):\n",
    "    for b in range(word_token_ids.size(0)):\n",
    "        w = Tokenizer.decode(word_token_ids[b], True)\n",
    "        if w in DistanceInfo:\n",
    "            DistanceInfo[w] += [crit_sum(Emb1[b], Emb2[b]).item()]\n",
    "        else:\n",
    "            DistanceInfo[w] = [crit_sum(Emb1[b], Emb2[b]).item()]\n",
    "    return DistanceInfo\n",
    "\n",
    "def get_emb(word_token_ids, EmbDict, Emb1, Emb2):\n",
    "    for b in range(word_token_ids.size(0)):\n",
    "#         print(word_token_ids[b])\n",
    "        w = Tokenizer.decode(word_token_ids[b], True)\n",
    "#         print(w)\n",
    "#         print(EmbDict)\n",
    "        if w in EmbDict.keys():\n",
    "            EmbDict[w] += [ Emb2[b].cpu() ]\n",
    "        else:\n",
    "            EmbDict[w] = [ Emb2[b].cpu() ]\n",
    "    return EmbDict"
   ]
  },
  {
   "cell_type": "code",
   "execution_count": 9,
   "id": "dffe54b4-1ef7-43ad-911c-462efdeae7db",
   "metadata": {},
   "outputs": [],
   "source": [
    "import copy\n",
    "import random\n",
    "\n",
    "crit_mean = nn.MSELoss()\n",
    "crit_sum = nn.MSELoss(reduction='sum')\n",
    "cos = nn.CosineSimilarity(dim=1, eps=1e-5)"
   ]
  },
  {
   "cell_type": "code",
   "execution_count": 40,
   "id": "4c35a6fa-f696-4c89-92f9-9cda38b2f5b7",
   "metadata": {},
   "outputs": [
    {
     "data": {
      "application/vnd.jupyter.widget-view+json": {
       "model_id": "ea91af9966eb4b068f516f7a5b38af8f",
       "version_major": 2,
       "version_minor": 0
      },
      "text/plain": [
       "  0%|          | 0/1 [00:00<?, ?it/s]"
      ]
     },
     "metadata": {},
     "output_type": "display_data"
    },
    {
     "name": "stdout",
     "output_type": "stream",
     "text": [
      "Def-ExamWord in Training\n"
     ]
    },
    {
     "data": {
      "application/vnd.jupyter.widget-view+json": {
       "model_id": "c91518a3ac9c43f09df6f18c1cdba8f0",
       "version_major": 2,
       "version_minor": 0
      },
      "text/plain": [
       "  0%|          | 0/1167055 [00:00<?, ?it/s]"
      ]
     },
     "metadata": {},
     "output_type": "display_data"
    },
    {
     "name": "stdout",
     "output_type": "stream",
     "text": [
      "Epoch [1/1], Loss: 0.0000\n"
     ]
    }
   ],
   "source": [
    "from transformers import BertConfig, BertModel\n",
    "### Training Seq\n",
    "# PAIR_seq = [\"Word-Def\"]\n",
    "PAIR_seq = [\"Def-ExamWord\"]\n",
    "\n",
    "#####\n",
    "### Initialization\n",
    "# Embedding = AutoModel.from_pretrained('bert-base-uncased')\n",
    "# Embedding_ = AutoModel.from_pretrained('bert-base-uncased')\n",
    "\n",
    "### Random\n",
    "configuration = BertConfig()\n",
    "Embedding = BertModel(configuration)\n",
    "Embedding_ = BertModel(configuration)\n",
    "\n",
    "# Embedding = AutoModel.from_pretrained('./save/WordWord/3/')\n",
    "# Embedding_ = AutoModel.from_pretrained('./save/WordWord/10/')\n",
    "# Embedding = BertModel.from_pretrained(\"./save/2\")\n",
    "# Embedding_ = BertModel.from_pretrained(\"./save/WordExword/\")\n",
    "# Embedding = nn.DataParallel(Embedding).to(device)\n",
    "# Embedding_ = nn.DataParallel(Embedding_).to(device)\n",
    "#####\n",
    "### Fine-tuning\n",
    "Hyperparams[\"LearningRate\"] = 1e-4\n",
    "# Hyperparams[\"LearningRate\"] = 0\n",
    "# Hyperparams[\"LearningRate\"] = 5e-6\n",
    "# Hyperparams[\"LearningRate\"] = 1e-6\n",
    "Hyperparams[\"NumEpochs\"] = 1\n",
    "#####\n",
    "\n",
    "optimizer = torch.optim.Adam(filter(lambda p: p.requires_grad, Embedding.parameters()), lr=Hyperparams[\"LearningRate\"])\n",
    "pbar = tqdm(total=Hyperparams[\"NumEpochs\"])\n",
    "\n",
    "Embedding = nn.DataParallel(Embedding).to(device)\n",
    "# Embedding_ = nn.DataParallel(Embedding).to(device)\n",
    "Embedding_ = copy.deepcopy(Embedding) # Initializer\n",
    "\n",
    "Extractor = torch.tensor([0]).unsqueeze(1).expand(-1,10).to(device)\n",
    "MaxAvg = 0\n",
    "EmbDict = {}\n",
    "DistanceInfo = [{} for _ in range(13)]\n",
    "\n",
    "for ep in range(Hyperparams[\"NumEpochs\"]):\n",
    "    random.shuffle(PAIR_list)\n",
    "    Embedding.eval()    \n",
    "    Embedding_ = copy.deepcopy(Embedding) # Copier / Epoch\n",
    "    Embedding_.eval()\n",
    "\n",
    "    for PAIR in PAIR_seq:\n",
    "#         Embedding_ = copy.deepcopy(Embedding) # PAIR Copier\n",
    "        ### Renew Optimizer\n",
    "        optimizer = torch.optim.Adam(filter(lambda p: p.requires_grad, Embedding.parameters()), lr=Hyperparams[\"LearningRate\"])\n",
    "        print(PAIR, \"in Training\")\n",
    "        if PAIR == \"Word-Def\":\n",
    "            pbar2 = tqdm(total=len(train_dataset_WordDef), leave=True)\n",
    "            for i, (w, x, y) in enumerate(train_loader_WordDef):\n",
    "                w = { k: v[:,0,:].to(device) for k, v in w.items() }\n",
    "                x = { k: v[:,0,:].to(device) for k, v in x.items() }\n",
    "                y = { k: v[:,0,:].to(device) for k, v in y.items() }\n",
    "                ### PAD\n",
    "                idx = (y[\"input_ids\"] == w[\"input_ids\"][:,0].unsqueeze(1).expand(-1,MAX_SEQ_LEN)).nonzero()\n",
    "                wlen = (w[\"input_ids\"] != Extractor).sum(dim=1)\n",
    "                for (xx, yy), wl in zip(idx, wlen):\n",
    "                    for wl_idx in range(yy,yy+wl):\n",
    "                        x[\"input_ids\"][xx,wl_idx] = Tokenizer.pad_token_id # pad id\n",
    "                \n",
    "                with torch.no_grad(): OutEmb2 = Embedding_(**y, output_hidden_states=True)\n",
    "                with torch.no_grad(): OutEmb1 = Embedding(**x, output_hidden_states=True)\n",
    "                loss = 0\n",
    "                ### W_t - D_[CLS]\n",
    "#                 for (xx, yy), wl in zip(idx, wlen):\n",
    "#                     loss += crit_sum(torch.mean(OutEmb1[0][xx,yy:yy+wl,:], dim=0), OutEmb2[0][xx,0,:])\n",
    "#                     loss += crit_sum(OutEmb1[0][xx,0,:], torch.mean(OutEmb2[0][xx,yy:yy+wl,:], dim=0))\n",
    "#                 loss /= x[\"input_ids\"].size(0)\n",
    "                ### W_[CLS] - D_[CLS]\n",
    "                loss += crit_sum(OutEmb1[0][:,0,:], OutEmb2[0][:,0,:])\n",
    "                EmbDict = get_emb(x[\"input_ids\"], EmbDict, OutEmb1[0][:,0,:], OutEmb2[0][:,0,:])\n",
    "                \n",
    "                for H in range(13):\n",
    "                    DistanceInfo[H] = DistanceChecker(x[\"input_ids\"],\n",
    "                            DistanceInfo[H], OutEmb1[2][H][:,0,:], OutEmb2[2][H][:,0,:])\n",
    "\n",
    "                pbar2.update(x[\"input_ids\"].size(0))\n",
    "            pbar2.close()\n",
    "        elif PAIR == \"Word-Word\": # Need to be Tuned\n",
    "            pbar2 = tqdm(total=len(train_dataset_WordWord), leave=True)\n",
    "            for i, (w, x, y) in enumerate(train_loader_WordWord):\n",
    "                w = { k: v[:,0,:].to(device) for k, v in w.items() }\n",
    "                x = { k: v[:,0,:].to(device) for k, v in x.items() }\n",
    "                y = { k: v[:,0,:].to(device) for k, v in y.items() }\n",
    "                with torch.no_grad(): OutEmb2 = Embedding_(**y)\n",
    "                OutEmb1 = Embedding(**x)\n",
    "                idx = (y[\"input_ids\"] == w[\"input_ids\"][:,0].unsqueeze(1).expand(-1,MAX_SEQ_LEN)).nonzero()\n",
    "                wlen = (w[\"input_ids\"] != Extractor).sum(dim=1)\n",
    "                ###\n",
    "                loss = 0\n",
    "                for (xx, yy), wl in zip(idx, wlen):\n",
    "                    ### W_[CLS] - W_t / W_t - W_[CLS]\n",
    "                    loss += crit_sum(OutEmb1[0][xx,0,:], torch.mean(OutEmb2[0][xx,yy:yy+wl,:], dim=0)) # Target\n",
    "#                     loss += crit_sum(torch.mean(OutEmb1[0][xx,yy:yy+wl,:], dim=0), OutEmb2[0][xx,0,:])\n",
    "                loss /= x[\"input_ids\"].size(0)#*2\n",
    "                optimizer.zero_grad()\n",
    "                loss.backward()\n",
    "                optimizer.step()\n",
    "                pbar2.update(x[\"input_ids\"].size(0))\n",
    "            pbar2.close()\n",
    "            \n",
    "        elif PAIR == \"Word-ExamWord\":\n",
    "            pbar2 = tqdm(total=len(train_dataset_WordExWord), leave=True)\n",
    "            for i, (w, x, y) in enumerate(train_loader_WordExWord):\n",
    "                w = { k: v[:,0,:].to(device) for k, v in w.items() }\n",
    "                x = { k: v[:,0,:].to(device) for k, v in x.items() }\n",
    "                y = { k: v[:,0,:].to(device) for k, v in y.items() }\n",
    "                with torch.no_grad(): OutEmb2 = Embedding_(**y)\n",
    "                with torch.no_grad(): OutEmb1 = Embedding(**x)\n",
    "                idx = (y[\"input_ids\"] == w[\"input_ids\"][:,0].unsqueeze(1).expand(-1,MAX_SEQ_LEN)).nonzero()\n",
    "                wlen = (w[\"input_ids\"] != Extractor).sum(dim=1)\n",
    "#                 wlen = wlen - SpTokenCnt\n",
    "                loss = 0\n",
    "                for (xx, yy), wl in zip(idx, wlen):\n",
    "                    loss += crit_sum(OutEmb1[0][xx,0,:], torch.mean(OutEmb2[0][xx,yy:yy+wl,:], dim=0))\n",
    "                loss /= x[\"input_ids\"].size(0)\n",
    "                optimizer.zero_grad()\n",
    "                loss.backward()\n",
    "                optimizer.step()\n",
    "                pbar2.update(x[\"input_ids\"].size(0))\n",
    "            pbar2.close()\n",
    "            \n",
    "        elif PAIR == \"Def-ExamWord\":\n",
    "            pbar2 = tqdm(total=len(train_dataset_DefExWord), leave=True)\n",
    "            for i, (w, x, y) in enumerate(train_loader_DefExWord):\n",
    "                w = { k: v[:,0,:].to(device) for k, v in w.items() }\n",
    "                x = { k: v[:,0,:].to(device) for k, v in x.items() }\n",
    "                y = { k: v[:,0,:].to(device) for k, v in y.items() }\n",
    "                ##### Def->ExamWord\n",
    "                idx = (y[\"input_ids\"] == w[\"input_ids\"][:,0].unsqueeze(1).expand(-1,MAX_SEQ_LEN)).nonzero()\n",
    "                wlen = (w[\"input_ids\"] != Extractor).sum(dim=1)\n",
    "                ### PAD\n",
    "#                 for (xx, yy), wl in zip(idx, wlen):\n",
    "#                     for wl_idx in range(yy,yy+wl):\n",
    "#                         x[\"input_ids\"][xx,wl_idx] = Tokenizer.pad_token_id # pad id\n",
    "                        \n",
    "                with torch.no_grad(): OutEmb2 = Embedding_(**y, output_hidden_states=True)\n",
    "                with torch.no_grad(): OutEmb1 = Embedding(**x, output_hidden_states=True)\n",
    "\n",
    "                for (xx, yy), wl in zip(idx, wlen):\n",
    "                    EmbDict = get_emb(w[\"input_ids\"][xx], EmbDict, OutEmb1[0][xx,0,:], torch.mean(OutEmb2[0][xx,yy:yy+wl,:], dim=0))\n",
    "                    \n",
    "                for H in range(13):\n",
    "                    for (xx, yy), wl in zip(idx, wlen):\n",
    "                        DistanceInfo[H] = DistanceChecker(w[\"input_ids\"][xx],\n",
    "                                DistanceInfo[H], OutEmb1[2][H][xx,0,:], torch.mean(OutEmb2[2][H][xx,yy:yy+wl,:], dim=0))\n",
    "\n",
    "                loss = 0\n",
    "#                 for (xx, yy), wl in zip(idx, wlen):\n",
    "#                     loss += crit_sum(OutEmb1[0][xx,0,:], torch.mean(OutEmb2[0][xx,yy:yy+wl,:], dim=0))\n",
    "#                 loss /= x[\"input_ids\"].size(0)\n",
    "#                 optimizer.zero_grad()\n",
    "#                 if len(idx): loss.backward()\n",
    "#                 optimizer.step()\n",
    "                pbar2.update(x[\"input_ids\"].size(0))\n",
    "            pbar2.close()\n",
    "            \n",
    "                ### ExamWord->Def\n",
    "#                 with torch.no_grad(): OutEmb2 = Embedding_(x)\n",
    "#                 OutEmb1 = Embedding(y)\n",
    "#                 idx = (y == Word[:,0].unsqueeze(1).expand(x.size(0),MAX_SEQ_LEN)).nonzero()\n",
    "#                 loss = 0\n",
    "#                 for xx, yy in idx:\n",
    "#                     loss += crit(OutEmb1[1][xx], OutEmb2[0][xx,yy])\n",
    "#                 optimizer.zero_grad()\n",
    "#                 if len(idx):\n",
    "# #                     loss = loss/len(idx)\n",
    "#                     loss.backward()\n",
    "#                 optimizer.step()\n",
    "#                 pbar2.update(Hyperparams[\"BatchSize\"])\n",
    "\n",
    "        else:\n",
    "            print(\"Unknown\")\n",
    "#             loss = crit_mean(OutEmb1[1], OutEmb2[1])\n",
    "        break\n",
    "\n",
    "        print(\"WordSim Scoring\")\n",
    "        ScoreList = []\n",
    "        ScoreList.append(Evaluation(Embedding, Tokenizer, wordsim_sim))\n",
    "        ScoreList.append(Evaluation(Embedding, Tokenizer, wordsim_rel))\n",
    "        ScoreList.append(Evaluation(Embedding, Tokenizer, rw))\n",
    "        ScoreList.append(Evaluation(Embedding, Tokenizer, men))\n",
    "        ScoreList.append(Evaluation(Embedding, Tokenizer, sem))\n",
    "        ScoreList.append(Evaluation(Embedding, Tokenizer, simlex))\n",
    "        ScoreList.append(Evaluation(Embedding, Tokenizer, simverb))\n",
    "\n",
    "        print('WordSim353(Sim) Score {:.3f}'.format(ScoreList[0]))\n",
    "        print('WordSim353(Rel) Score {:.3f}'.format(ScoreList[1]))\n",
    "        print('RareWords Score {:.3f}'.format(ScoreList[2]))\n",
    "        print('MEN Score {:.3f}'.format(ScoreList[3]))\n",
    "        print('SEM Score {:.3f}'.format(ScoreList[4]))\n",
    "        print('SimLex Score {:.3f}'.format(ScoreList[5]))\n",
    "        print('SimVerb Score {:.3f}'.format(ScoreList[6]))\n",
    "        \n",
    "        Avg = sum(ScoreList)/len(ScoreList)\n",
    "        print(\"Average {:.3f}\".format(Avg))\n",
    "#         if Avg > MaxAvg:\n",
    "        if False:\n",
    "            MaxAvg = Avg\n",
    "            print(\"=====New Best=====\")\n",
    "#             save_dir = Path('./save/'+GPUIdx)\n",
    "            save_dir = Path('./save/4,5')\n",
    "            save_dir.mkdir(parents=True, exist_ok=True)\n",
    "            save_dir = str(save_dir)\n",
    "            print(\"save to\", save_dir)\n",
    "            Embedding.module.save_pretrained(save_dir)\n",
    "            Tokenizer.save_vocabulary(save_dir)\n",
    "\n",
    "    pbar.update(1)\n",
    "    print('Epoch [{}/{}], Loss: {:.4f}'.format(ep+1, Hyperparams[\"NumEpochs\"], loss))\n",
    "#     Embedding.module.save_pretrained('./save')\n",
    "    pbar2.close()\n",
    "    \n",
    "pbar.close()"
   ]
  },
  {
   "cell_type": "code",
   "execution_count": 30,
   "id": "9ccfb40b-1bb0-4457-b6db-7b8e2dab6903",
   "metadata": {},
   "outputs": [],
   "source": [
    "# file_object = open(\"./data/DefinitionDatasetNoPOS\", 'r')\n",
    "# file_object_save = open(\"./data/DefinitionDataset.txt\", 'w')\n",
    "# for line in file_object:\n",
    "#     line = line.replace(\"?s=t\", \"\")\n",
    "#     file_object_save.write(line+'\\n')\n",
    "# file_object.close()\n",
    "# file_object_save.close()"
   ]
  },
  {
   "cell_type": "code",
   "execution_count": 24,
   "id": "6609076d-aa4a-4ad5-b029-60e6e78a5f29",
   "metadata": {},
   "outputs": [],
   "source": [
    "torch.save(EmbDict, \"./EmbDict_WordDef_RAND\")\n",
    "# torch.save(EmbDict, \"./EmbDict_DefExam_RAND\")"
   ]
  },
  {
   "cell_type": "code",
   "execution_count": 37,
   "id": "ee850083-ad8b-452c-a444-e132ab027c30",
   "metadata": {},
   "outputs": [
    {
     "name": "stdout",
     "output_type": "stream",
     "text": [
      "1 1.2543211751517773\n",
      "2 1.2638335425796283\n",
      "3 0.9773478116506843\n",
      "4 0.7725217314072341\n",
      "5 0.6072246747964998\n",
      "6 0.8528065850321551\n",
      "7 0.6343174118648629\n",
      "8 0.4829244256959527\n",
      "9 0.45362977126024195\n",
      "10 0.40372587081429356\n",
      "11 0.48853971951530906\n",
      "12 0.4757216554282784\n"
     ]
    }
   ],
   "source": [
    "### Def-Exam Distance RAND 1\n",
    "for H in range(1,13):\n",
    "    min_dist = 999\n",
    "    sum_all_dist = 0\n",
    "    for w, dist in DistanceInfo[H].items():\n",
    "        avg_dist = sum(dist)/len(dist)\n",
    "        sum_all_dist += avg_dist\n",
    "    print(H, sum_all_dist/len(DistanceInfo[H]))"
   ]
  },
  {
   "cell_type": "code",
   "execution_count": 39,
   "id": "e15c90a5-9642-455c-b7d5-98c6357b3d5f",
   "metadata": {},
   "outputs": [
    {
     "name": "stdout",
     "output_type": "stream",
     "text": [
      "1 1.1733561349957813\n",
      "2 1.3116480552845844\n",
      "3 1.002281553688338\n",
      "4 1.0779085986418688\n",
      "5 0.9565064874921038\n",
      "6 0.6163931338661927\n",
      "7 0.4505973655615372\n",
      "8 0.8690953342517127\n",
      "9 0.8355183627509223\n",
      "10 0.7947626449801649\n",
      "11 0.5770187012768524\n",
      "12 0.5219582722484121\n"
     ]
    }
   ],
   "source": [
    "### Def-Exam Distance RAND 2\n",
    "for H in range(1,13):\n",
    "    min_dist = 999\n",
    "    sum_all_dist = 0\n",
    "    for w, dist in DistanceInfo[H].items():\n",
    "        avg_dist = sum(dist)/len(dist)\n",
    "        sum_all_dist += avg_dist\n",
    "    print(H, sum_all_dist/len(DistanceInfo[H]))"
   ]
  },
  {
   "cell_type": "code",
   "execution_count": 41,
   "id": "1d8e1708-796e-4af7-9b35-3bd362f2456c",
   "metadata": {},
   "outputs": [
    {
     "name": "stdout",
     "output_type": "stream",
     "text": [
      "1 0.7326491289541862\n",
      "2 0.6853141141925196\n",
      "3 0.6547279111776305\n",
      "4 0.5059181033814302\n",
      "5 0.5191443220897355\n",
      "6 0.7939586849523057\n",
      "7 0.7217189860666418\n",
      "8 0.5859106014403027\n",
      "9 0.644556851164505\n",
      "10 0.697029170209102\n",
      "11 0.5981916218203809\n",
      "12 0.8048020719433202\n"
     ]
    }
   ],
   "source": [
    "### Def-Exam Distance RAND 3\n",
    "for H in range(1,13):\n",
    "    min_dist = 999\n",
    "    sum_all_dist = 0\n",
    "    for w, dist in DistanceInfo[H].items():\n",
    "        avg_dist = sum(dist)/len(dist)\n",
    "        sum_all_dist += avg_dist\n",
    "    print(H, sum_all_dist/len(DistanceInfo[H]))"
   ]
  },
  {
   "cell_type": "code",
   "execution_count": 14,
   "id": "dd999ce3-e514-4846-910a-06a460c51ea8",
   "metadata": {},
   "outputs": [
    {
     "name": "stdout",
     "output_type": "stream",
     "text": [
      "1 21.66948614551624\n",
      "2 20.083015745026763\n",
      "3 26.344259188643544\n",
      "4 58.49017227219378\n",
      "5 95.12900345927366\n",
      "6 163.2929380736657\n",
      "7 228.40180257732462\n",
      "8 190.95525999435924\n",
      "9 222.90461204805766\n",
      "10 252.55388575573417\n",
      "11 194.14743431997798\n",
      "12 125.30955049808328\n"
     ]
    }
   ],
   "source": [
    "### Word-Def Distance\n",
    "for H in range(1,13):\n",
    "    min_dist = 999\n",
    "    sum_all_dist = 0\n",
    "    for w, dist in DistanceInfo[H].items():\n",
    "        avg_dist = sum(dist)/len(dist)\n",
    "        sum_all_dist += avg_dist\n",
    "    print(H, sum_all_dist/len(DistanceInfo[H]))"
   ]
  },
  {
   "cell_type": "code",
   "execution_count": 21,
   "id": "15a663ca-0ce5-4fa8-9655-85816d9c72ea",
   "metadata": {},
   "outputs": [
    {
     "name": "stdout",
     "output_type": "stream",
     "text": [
      "1 21.69963761005995\n",
      "2 20.167394277845297\n",
      "3 26.42279852382098\n",
      "4 58.559346936600456\n",
      "5 95.99472710964142\n",
      "6 166.27524067334707\n",
      "7 231.18334458559747\n",
      "8 194.00057537132537\n",
      "9 225.56901953923068\n",
      "10 256.38444129558803\n",
      "11 198.84849264535646\n",
      "12 128.95634983329313\n"
     ]
    }
   ],
   "source": [
    "# Word-Def PAD\n",
    "for H in range(1,13):\n",
    "    min_dist = 999\n",
    "    sum_all_dist = 0\n",
    "    for w, dist in DistanceInfo[H].items():\n",
    "        avg_dist = sum(dist)/len(dist)\n",
    "        sum_all_dist += avg_dist\n",
    "    print(H, sum_all_dist/len(DistanceInfo[H]))"
   ]
  },
  {
   "cell_type": "code",
   "execution_count": 25,
   "id": "096caa17-7fea-4eb9-9fd7-cd1c4b9d5c3f",
   "metadata": {},
   "outputs": [
    {
     "name": "stdout",
     "output_type": "stream",
     "text": [
      "1 12.118774129325503\n",
      "2 25.532559345476976\n",
      "3 39.00931031685391\n",
      "4 52.48793635443836\n",
      "5 62.12767735438507\n",
      "6 69.7017019645351\n",
      "7 84.69585853376853\n",
      "8 96.09143156714373\n",
      "9 106.424931867933\n",
      "10 115.64847009309509\n",
      "11 127.76806031646883\n",
      "12 130.63714239240124\n"
     ]
    }
   ],
   "source": [
    "### Rand Word-Def Distance\n",
    "for H in range(1,13):\n",
    "    min_dist = 999\n",
    "    sum_all_dist = 0\n",
    "    for w, dist in DistanceInfo[H].items():\n",
    "        avg_dist = sum(dist)/len(dist)\n",
    "        sum_all_dist += avg_dist\n",
    "    print(H, sum_all_dist/len(DistanceInfo[H]))"
   ]
  },
  {
   "cell_type": "code",
   "execution_count": 28,
   "id": "db76c6c3-b272-44a8-a181-64705c470675",
   "metadata": {},
   "outputs": [
    {
     "name": "stdout",
     "output_type": "stream",
     "text": [
      "1 11.82391733855214\n",
      "2 23.691717355302295\n",
      "3 34.58949032346841\n",
      "4 43.052798910535486\n",
      "5 52.59142006117078\n",
      "6 65.0449273196841\n",
      "7 72.94565258581797\n",
      "8 83.9560776559611\n",
      "9 91.96689212375352\n",
      "10 101.71599504427033\n",
      "11 106.19051321141765\n",
      "12 120.22365086723437\n"
     ]
    }
   ],
   "source": [
    "### Rand Word-Def Distance 2\n",
    "for H in range(1,13):\n",
    "    min_dist = 999\n",
    "    sum_all_dist = 0\n",
    "    for w, dist in DistanceInfo[H].items():\n",
    "        avg_dist = sum(dist)/len(dist)\n",
    "        sum_all_dist += avg_dist\n",
    "    print(H, sum_all_dist/len(DistanceInfo[H]))"
   ]
  },
  {
   "cell_type": "code",
   "execution_count": 31,
   "id": "c613819d-aea7-4043-b58f-2fd260c834f9",
   "metadata": {},
   "outputs": [
    {
     "name": "stdout",
     "output_type": "stream",
     "text": [
      "1 10.504775944188054\n",
      "2 21.3879058150344\n",
      "3 31.546087508352734\n",
      "4 42.287389416124604\n",
      "5 52.19274715428652\n",
      "6 67.69038928026357\n",
      "7 78.72876368277295\n",
      "8 88.74481806805088\n",
      "9 106.2796790249445\n",
      "10 115.63460998375095\n",
      "11 128.4339798107121\n",
      "12 136.9016999791391\n"
     ]
    }
   ],
   "source": [
    "### Rand Word-Def Distance 3\n",
    "for H in range(1,13):\n",
    "    min_dist = 999\n",
    "    sum_all_dist = 0\n",
    "    for w, dist in DistanceInfo[H].items():\n",
    "        avg_dist = sum(dist)/len(dist)\n",
    "        sum_all_dist += avg_dist\n",
    "    print(H, sum_all_dist/len(DistanceInfo[H]))"
   ]
  },
  {
   "cell_type": "code",
   "execution_count": 33,
   "id": "ab51383b-c1a4-447d-9d67-b4976a1ff854",
   "metadata": {},
   "outputs": [
    {
     "name": "stdout",
     "output_type": "stream",
     "text": [
      "1 12.13240026435094\n",
      "2 24.816727374741923\n",
      "3 36.517722959574435\n",
      "4 49.00234788379107\n",
      "5 62.85176786277447\n",
      "6 73.13500896685336\n",
      "7 81.84614768943058\n",
      "8 94.28537728982623\n",
      "9 103.23447284796141\n",
      "10 103.80378819010168\n",
      "11 111.34635838351649\n",
      "12 120.56315112920727\n"
     ]
    }
   ],
   "source": [
    "### Rand Word-Def Distance 4\n",
    "for H in range(1,13):\n",
    "    min_dist = 999\n",
    "    sum_all_dist = 0\n",
    "    for w, dist in DistanceInfo[H].items():\n",
    "        avg_dist = sum(dist)/len(dist)\n",
    "        sum_all_dist += avg_dist\n",
    "    print(H, sum_all_dist/len(DistanceInfo[H]))"
   ]
  },
  {
   "cell_type": "code",
   "execution_count": 35,
   "id": "d14d5247-4069-4b91-a38f-96651121d7c1",
   "metadata": {},
   "outputs": [
    {
     "name": "stdout",
     "output_type": "stream",
     "text": [
      "1 11.059659387412744\n",
      "2 22.569080071275216\n",
      "3 32.7913857970303\n",
      "4 41.378892682109026\n",
      "5 51.09083836125403\n",
      "6 60.67514811740112\n",
      "7 68.40467421595082\n",
      "8 79.01093954227858\n",
      "9 87.01617947368467\n",
      "10 94.68038251690281\n",
      "11 99.39400888913183\n",
      "12 112.57802144382151\n"
     ]
    }
   ],
   "source": [
    "### Rand Word-Def Distance 5\n",
    "for H in range(1,13):\n",
    "    min_dist = 999\n",
    "    sum_all_dist = 0\n",
    "    for w, dist in DistanceInfo[H].items():\n",
    "        avg_dist = sum(dist)/len(dist)\n",
    "        sum_all_dist += avg_dist\n",
    "    print(H, sum_all_dist/len(DistanceInfo[H]))"
   ]
  },
  {
   "cell_type": "code",
   "execution_count": null,
   "id": "fa90f5ef-5527-4f04-8120-7e2047fb87d7",
   "metadata": {},
   "outputs": [],
   "source": []
  },
  {
   "cell_type": "code",
   "execution_count": null,
   "id": "4779eb00-53bf-4708-a06d-119e619ed481",
   "metadata": {},
   "outputs": [],
   "source": [
    "### Rand Def-Exam Distance\n",
    "for H in range(1,13):\n",
    "    min_dist = 999\n",
    "    sum_all_dist = 0\n",
    "    for w, dist in DistanceInfo[H].items():\n",
    "        avg_dist = sum(dist)/len(dist)\n",
    "        sum_all_dist += avg_dist\n",
    "    print(H, sum_all_dist/len(DistanceInfo[H]))"
   ]
  },
  {
   "cell_type": "code",
   "execution_count": null,
   "id": "ae0260fc-af98-467c-9f88-96af468057a7",
   "metadata": {},
   "outputs": [],
   "source": []
  },
  {
   "cell_type": "code",
   "execution_count": 18,
   "id": "f292d5e9-b97b-48c5-96eb-037e13c81864",
   "metadata": {},
   "outputs": [
    {
     "name": "stdout",
     "output_type": "stream",
     "text": [
      "1 corp. 0.40642428398132324\n",
      "2 corp. 0.7480358779430389\n",
      "3 corp. 1.1436077654361725\n",
      "4 corp. 3.588529109954834\n",
      "5 easy - to - use 11.066059112548828\n",
      "6 corp. 23.287181854248047\n",
      "7 shaven 69.07918548583984\n",
      "8 shaven 65.34140014648438\n",
      "9 shaven 68.60640716552734\n",
      "10 shaven 77.46115112304688\n",
      "11 shaven 61.61341094970703\n",
      "12 also 12.283834457397461\n"
     ]
    }
   ],
   "source": [
    "for H in range(1,13):\n",
    "    min_dist = 999\n",
    "    for w, dist in DistanceInfo[H].items():\n",
    "        avg_dist = sum(dist)/len(dist)\n",
    "        if avg_dist < min_dist:\n",
    "            min_w = w\n",
    "            min_dist = avg_dist\n",
    "    print(H, min_w, min_dist)"
   ]
  },
  {
   "cell_type": "code",
   "execution_count": 31,
   "id": "1083f715-d595-418a-b1a2-b08c49c08ab1",
   "metadata": {},
   "outputs": [],
   "source": [
    "torch.save(EmbDict, \"./EmbDict_WordDef_PAD\")"
   ]
  },
  {
   "cell_type": "code",
   "execution_count": 15,
   "id": "2b85abb6-f383-4452-a46c-34d46556e912",
   "metadata": {},
   "outputs": [
    {
     "data": {
      "application/vnd.jupyter.widget-view+json": {
       "model_id": "9089e6520fc640f1affa44c648e35020",
       "version_major": 2,
       "version_minor": 0
      },
      "text/plain": [
       "  0%|          | 0/30533 [00:00<?, ?it/s]"
      ]
     },
     "metadata": {},
     "output_type": "display_data"
    },
    {
     "name": "stderr",
     "output_type": "stream",
     "text": [
      "Some weights of the model checkpoint at bert-base-uncased were not used when initializing BertModel: ['cls.seq_relationship.bias', 'cls.predictions.decoder.weight', 'cls.predictions.transform.LayerNorm.weight', 'cls.seq_relationship.weight', 'cls.predictions.transform.LayerNorm.bias', 'cls.predictions.transform.dense.weight', 'cls.predictions.transform.dense.bias', 'cls.predictions.bias']\n",
      "- This IS expected if you are initializing BertModel from the checkpoint of a model trained on another task or with another architecture (e.g. initializing a BertForSequenceClassification model from a BertForPreTraining model).\n",
      "- This IS NOT expected if you are initializing BertModel from the checkpoint of a model that you expect to be exactly identical (initializing a BertForSequenceClassification model from a BertForSequenceClassification model).\n",
      "/opt/conda/lib/python3.8/site-packages/torch/nn/modules/loss.py:528: UserWarning: Using a target size (torch.Size([1, 768])) that is different to the input size (torch.Size([768])). This will likely lead to incorrect results due to broadcasting. Please ensure they have the same size.\n",
      "  return F.mse_loss(input, target, reduction=self.reduction)\n"
     ]
    }
   ],
   "source": [
    "EmbDict = torch.load(\"./EmbDict\")\n",
    "import seaborn as sns\n",
    "from tqdm.notebook import tqdm\n",
    "sns.set(style=\"whitegrid\")\n",
    "x_axis, y_axis, x_axis_target, y_axis_target = [], [], [], []\n",
    "pbar = tqdm(total = len(EmbDict))\n",
    "idx = 0\n",
    "\n",
    "import torch.nn as nn\n",
    "crit_sum = nn.MSELoss(reduction='sum')\n",
    "token_config = {\"truncation\": True, \"padding\": \"max_length\",\n",
    "                            \"max_length\": MAX_SEQ_LEN, \"return_tensors\": \"pt\"}\n",
    "TargetWords = [\"love\"]\n",
    "Word = Tokenizer(TargetWords, **token_config)\n",
    "# Word = torch.tensor(CLS_id + Word + SEP_id + PAD_id*(MAX_SEQ_LEN-SpTokenCnt-len(Word))).reshape(1,-1).long()\n",
    "Embedding = AutoModel.from_pretrained('bert-base-uncased')\n",
    "# Embedding = nn.DataParallel(Embedding).to(device)\n",
    "# Embedding = Embedding.cpu()\n",
    "with torch.no_grad(): OutEmb1 = Embedding(**Word, output_hidden_states=True)\n",
    "\n",
    "MinDist, MaxDist = 999, 0\n",
    "MinWord, MaxWord = '', ''\n",
    "for w, ds in EmbDict.items():\n",
    "    for i, d1 in enumerate(ds):\n",
    "        x_axis.append(w)\n",
    "        Dist = crit_sum(d1, OutEmb1[2][-1][:,0,:])\n",
    "        \n",
    "        if MinDist > Dist:\n",
    "            MinDist = Dist\n",
    "            MinWord = w\n",
    "        elif MaxDist < Dist:\n",
    "            MaxDist = Dist\n",
    "            MaxWord = w\n",
    "        if w in TargetWords:\n",
    "            x_axis_target += [w]#*1000\n",
    "            y_axis_target += [np.around(Dist, 3)]#*1000\n",
    "#         else:\n",
    "#             y_axis_target.append(0)\n",
    "        y_axis.append(np.around(Dist, 3))\n",
    "    \n",
    "    pbar.update(1)\n",
    "pbar.close()\n",
    "x_axis = np.array(x_axis)\n",
    "y_axis = np.array(y_axis)\n",
    "y_axis_target = np.array(y_axis_target)"
   ]
  },
  {
   "cell_type": "code",
   "execution_count": 16,
   "id": "5f72d494-1651-41f0-b28d-2dd352046571",
   "metadata": {},
   "outputs": [
    {
     "name": "stdout",
     "output_type": "stream",
     "text": [
      "Variance High\n"
     ]
    },
    {
     "ename": "AttributeError",
     "evalue": "'list' object has no attribute 'items'",
     "output_type": "error",
     "traceback": [
      "\u001b[0;31m---------------------------------------------------------------------------\u001b[0m",
      "\u001b[0;31mAttributeError\u001b[0m                            Traceback (most recent call last)",
      "\u001b[0;32m<ipython-input-16-8e9822fa5fdc>\u001b[0m in \u001b[0;36m<module>\u001b[0;34m\u001b[0m\n\u001b[1;32m      6\u001b[0m \u001b[0mprint\u001b[0m\u001b[0;34m(\u001b[0m\u001b[0;34m\"Variance High\"\u001b[0m\u001b[0;34m)\u001b[0m\u001b[0;34m\u001b[0m\u001b[0;34m\u001b[0m\u001b[0m\n\u001b[1;32m      7\u001b[0m \u001b[0;31m# DistanceInfo = dict(WordDistancesDict)\u001b[0m\u001b[0;34m\u001b[0m\u001b[0;34m\u001b[0m\u001b[0;34m\u001b[0m\u001b[0m\n\u001b[0;32m----> 8\u001b[0;31m \u001b[0mDistanceInfo\u001b[0m \u001b[0;34m=\u001b[0m \u001b[0msorted\u001b[0m\u001b[0;34m(\u001b[0m\u001b[0mDistanceInfo\u001b[0m\u001b[0;34m.\u001b[0m\u001b[0mitems\u001b[0m\u001b[0;34m(\u001b[0m\u001b[0;34m)\u001b[0m\u001b[0;34m,\u001b[0m \u001b[0mkey\u001b[0m\u001b[0;34m=\u001b[0m\u001b[0;32mlambda\u001b[0m \u001b[0mx\u001b[0m\u001b[0;34m:\u001b[0m \u001b[0mnp\u001b[0m\u001b[0;34m.\u001b[0m\u001b[0mstd\u001b[0m\u001b[0;34m(\u001b[0m\u001b[0mx\u001b[0m\u001b[0;34m[\u001b[0m\u001b[0;36m1\u001b[0m\u001b[0;34m]\u001b[0m\u001b[0;34m)\u001b[0m\u001b[0;34m,\u001b[0m \u001b[0mreverse\u001b[0m\u001b[0;34m=\u001b[0m\u001b[0;32mTrue\u001b[0m\u001b[0;34m)\u001b[0m\u001b[0;34m\u001b[0m\u001b[0;34m\u001b[0m\u001b[0m\n\u001b[0m\u001b[1;32m      9\u001b[0m \u001b[0;32mfor\u001b[0m \u001b[0mi\u001b[0m\u001b[0;34m,\u001b[0m \u001b[0md\u001b[0m \u001b[0;32min\u001b[0m \u001b[0menumerate\u001b[0m\u001b[0;34m(\u001b[0m\u001b[0mDistanceInfo\u001b[0m\u001b[0;34m)\u001b[0m\u001b[0;34m:\u001b[0m\u001b[0;34m\u001b[0m\u001b[0;34m\u001b[0m\u001b[0m\n\u001b[1;32m     10\u001b[0m     \u001b[0mprint\u001b[0m\u001b[0;34m(\u001b[0m\u001b[0mi\u001b[0m\u001b[0;34m,\u001b[0m \u001b[0md\u001b[0m\u001b[0;34m[\u001b[0m\u001b[0;36m0\u001b[0m\u001b[0;34m]\u001b[0m\u001b[0;34m,\u001b[0m \u001b[0mnp\u001b[0m\u001b[0;34m.\u001b[0m\u001b[0mround\u001b[0m\u001b[0;34m(\u001b[0m\u001b[0mnp\u001b[0m\u001b[0;34m.\u001b[0m\u001b[0mstd\u001b[0m\u001b[0;34m(\u001b[0m\u001b[0md\u001b[0m\u001b[0;34m[\u001b[0m\u001b[0;36m1\u001b[0m\u001b[0;34m]\u001b[0m\u001b[0;34m)\u001b[0m\u001b[0;34m,\u001b[0m\u001b[0;36m2\u001b[0m\u001b[0;34m)\u001b[0m\u001b[0;34m)\u001b[0m\u001b[0;34m\u001b[0m\u001b[0;34m\u001b[0m\u001b[0m\n",
      "\u001b[0;31mAttributeError\u001b[0m: 'list' object has no attribute 'items'"
     ]
    }
   ],
   "source": [
    "# DistanceInfo = {}\n",
    "# for k, v in WordDistancesDict.items():\n",
    "#     if len(v) >= 3:\n",
    "#         DistanceInfo[k] = v\n",
    "\n",
    "print(\"Variance High\")\n",
    "# DistanceInfo = dict(WordDistancesDict)\n",
    "DistanceInfo = sorted(DistanceInfo.items(), key=lambda x: np.std(x[1]), reverse=True)\n",
    "for i, d in enumerate(DistanceInfo):\n",
    "    print(i, d[0], np.round(np.std(d[1]),2))\n",
    "    if i == 10:\n",
    "        break\n",
    "print(\"Variance Low\")\n",
    "DistanceInfo = dict(DistanceInfo)\n",
    "DistanceInfo = sorted(DistanceInfo.items(), key=lambda x: np.std(x[1]), reverse=False)\n",
    "for i, d in enumerate(DistanceInfo):\n",
    "    print(i, d[0], np.round(np.std(d[1]),2))\n",
    "    if i == 10:\n",
    "        break\n",
    "print(\"Mean High\")\n",
    "DistanceInfo = dict(DistanceInfo)\n",
    "DistanceInfo = sorted(DistanceInfo.items(), key=lambda x: np.sum(x[1])/len(x[1]), reverse=True)\n",
    "for i, d in enumerate(DistanceInfo):\n",
    "#     print(i, d[0], np.round(np.var(d[1]),2))\n",
    "    print(i, d[0], np.round(np.mean(d[1]),2))\n",
    "    if i == 10:\n",
    "        break\n",
    "print(\"Mean Low\")\n",
    "DistanceInfo = dict(DistanceInfo)\n",
    "DistanceInfo = sorted(DistanceInfo.items(), key=lambda x: np.sum(x[1])/len(x[1]), reverse=False)\n",
    "for i, d in enumerate(DistanceInfo):\n",
    "#     print(i, d[0], np.round(np.var(d[1]),2))\n",
    "    print(i, d[0], np.round(np.mean(d[1]),2))\n",
    "    if i == 10:\n",
    "        break"
   ]
  },
  {
   "cell_type": "code",
   "execution_count": 17,
   "id": "77aa0e2a-745c-424b-a68b-3e3653bc2292",
   "metadata": {},
   "outputs": [
    {
     "data": {
      "text/plain": [
       "<matplotlib.legend.Legend at 0x7fc2b7138730>"
      ]
     },
     "execution_count": 17,
     "metadata": {},
     "output_type": "execute_result"
    },
    {
     "data": {
      "image/png": "[encoded data removed]",
      "text/plain": [
       "<Figure size 3600x2400 with 1 Axes>"
      ]
     },
     "metadata": {},
     "output_type": "display_data"
    }
   ],
   "source": [
    "import matplotlib.pyplot as plt\n",
    "import seaborn as sns\n",
    "plt.figure(dpi=600)\n",
    "bins = np.linspace(0, 150, 150)\n",
    "ax = sns.histplot(data=y_axis, color='skyblue', bins=bins)\n",
    "ax.set(yscale=\"log\")\n",
    "# ax.twinx()\n",
    "bx = sns.histplot(data=y_axis_target, palette='bright', color='red', bins=bins)\n",
    "# bx.set(yscale=\"log\")\n",
    "ax.grid(None)\n",
    "# bx.grid(None)\n",
    "ax.set_xlabel(str(MinWord)+'('+str(np.round(MinDist.item(),1))+')                                                  '\n",
    "              +str(MaxWord)+'('+str(np.round(MaxDist.item(),1))+')', fontsize=12)\n",
    "\n",
    "ax.set_ylabel(\"Log-Scaled Counts\")\n",
    "plt.legend(labels=['All', str(TargetWords[0])])\n",
    "# bx.set_ylabel(\"Target Word Counts\", rotation=270, rotation_mode='anchor', loc='center', labelpad=20)\n",
    "# bx.set_yticks([1,2,3])\n",
    "# bx.margins(5)\n",
    "# bx.figure.subplots_adjust(right = 0.5)\n",
    "# bx.margins(2)\n",
    "# ax.set_title(\"Distances Distribution from '\"+TargetWords[0]+\"'\", fontsize=14)\n",
    "# ax.tick_params(labelsize=12)"
   ]
  },
  {
   "cell_type": "code",
   "execution_count": null,
   "id": "db25f48a-b9f9-4c2e-adf9-1f68f224e6a9",
   "metadata": {},
   "outputs": [],
   "source": []
  },
  {
   "cell_type": "code",
   "execution_count": null,
   "id": "ad6f2440-6200-4759-a717-19a8931cd6f7",
   "metadata": {},
   "outputs": [],
   "source": []
  },
  {
   "cell_type": "code",
   "execution_count": null,
   "id": "cf706f04-06fb-4d72-9ae7-5fca4d2d01da",
   "metadata": {},
   "outputs": [],
   "source": []
  },
  {
   "cell_type": "code",
   "execution_count": 31,
   "id": "ff0906da-9b8d-4130-be00-f9409647e72a",
   "metadata": {},
   "outputs": [],
   "source": [
    "file_object = open(\"./data/DefinitionDataset_.txt\", 'r')\n",
    "file_object_write = open(\"./data/DefinitionDataset.txt\", 'w')\n",
    "for line in file_object:\n",
    "    line = line.strip()\n",
    "    if line != \"\":\n",
    "        file_object_write.write(line+'\\n')\n",
    "file_object.close()\n",
    "file_object_write.close()"
   ]
  },
  {
   "cell_type": "code",
   "execution_count": null,
   "id": "d61d76c7-d2d0-42f8-ac19-1a638caf28c8",
   "metadata": {},
   "outputs": [],
   "source": []
  }
 ],
 "metadata": {
  "kernelspec": {
   "display_name": "Python 3",
   "language": "python",
   "name": "python3"
  },
  "language_info": {
   "codemirror_mode": {
    "name": "ipython",
    "version": 3
   },
   "file_extension": ".py",
   "mimetype": "text/x-python",
   "name": "python",
   "nbconvert_exporter": "python",
   "pygments_lexer": "ipython3",
   "version": "3.8.10"
  }
 },
 "nbformat": 4,
 "nbformat_minor": 5
}
