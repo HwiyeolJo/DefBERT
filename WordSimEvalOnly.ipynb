{
 "cells": [
  {
   "cell_type": "code",
   "execution_count": 6,
   "metadata": {},
   "outputs": [
    {
     "name": "stdout",
     "output_type": "stream",
     "text": [
      "cuda\n"
     ]
    }
   ],
   "source": [
    "import torch\n",
    "import torch.nn as nn\n",
    "import os\n",
    "import re\n",
    "from pathlib import Path\n",
    "\n",
    "# import gluonnlp\n",
    "import numpy as np\n",
    "from scipy import stats\n",
    "import torch\n",
    "import torch.nn as nn \n",
    "\n",
    "GPUIdx = str(\"0\")\n",
    "\n",
    "os.environ[\"CUDA_DEVICE_ORDER\"]=\"PCI_BUS_ID\"\n",
    "os.environ[\"CUDA_VISIBLE_DEVICES\"]= GPUIdx\n",
    "\n",
    "from tqdm.notebook import tqdm\n",
    "\n",
    "device = torch.device('cuda' if torch.cuda.is_available() else 'cpu')\n",
    "print(device)"
   ]
  },
  {
   "cell_type": "code",
   "execution_count": 7,
   "metadata": {},
   "outputs": [],
   "source": [
    "### Utils\n",
    "# import gluonnlp\n",
    "import copy\n",
    "import random\n",
    "# import gensim.downloader\n",
    "\n",
    "crit_mean = nn.MSELoss()\n",
    "crit_sum = nn.MSELoss(reduction='sum')\n",
    "cos = nn.CosineSimilarity(eps=1e-6)\n",
    "\n",
    "### Data Loading\n",
    "wordsim_sim = []\n",
    "file_object = open(\"./wordsim_data/wordsim353/wordsim353_sim_rel/wordsim_similarity_goldstandard.txt\", 'r', encoding='utf-8')\n",
    "for line in file_object:\n",
    "    line = line.split()\n",
    "    wordsim_sim.append([line[0], line[1], float(line[2])])\n",
    "file_object.close()\n",
    "            \n",
    "wordsim_rel = []\n",
    "file_object = open(\"./wordsim_data/wordsim353/wordsim353_sim_rel/wordsim_relatedness_goldstandard.txt\", 'r', encoding='utf-8')\n",
    "for line in file_object:\n",
    "    line = line.split()\n",
    "    wordsim_rel.append([line[0], line[1], float(line[2])])\n",
    "file_object.close()\n",
    "\n",
    "rw = []\n",
    "file_object = open(\"./wordsim_data/rw/rw.txt\", 'r', encoding='utf-8')\n",
    "for line in file_object:\n",
    "    line = line.split()\n",
    "    rw.append([line[0], line[1], float(line[2])])\n",
    "file_object.close()\n",
    "            \n",
    "men = []\n",
    "file_object = open(\"./wordsim_data/men/MEN/MEN_dataset_natural_form_full\", 'r', encoding='utf-8')\n",
    "for line in file_object:\n",
    "    line = line.split()\n",
    "    men.append([line[0], line[1], float(line[2])])\n",
    "file_object.close()\n",
    "            \n",
    "sem = []\n",
    "file_object1 = open(\"./wordsim_data/SemEval17-Task2/test/subtask1-monolingual/data/en.test.data.txt\", 'r', encoding='utf-8')\n",
    "file_object2 = open(\"./wordsim_data/SemEval17-Task2/test/subtask1-monolingual/keys/en.test.gold.txt\", 'r', encoding='utf-8')\n",
    "for line1, line2 in zip(file_object1, file_object2):\n",
    "    line1 = line1.split()\n",
    "    line2 = line2.split()\n",
    "    sem.append([line1[0], line1[1], float(line2[0])])\n",
    "file_object1.close()\n",
    "file_object2.close()\n",
    "        \n",
    "simlex = []\n",
    "file_object = open(\"./wordsim_data/SimLex-999/SimLex-999.txt\", 'r', encoding='utf-8')\n",
    "file_object.readline() # skip the first line\n",
    "for line in file_object:\n",
    "    line = line.split()\n",
    "    simlex.append([line[0], line[1], float(line[3])])\n",
    "file_object.close()\n",
    "            \n",
    "simverb = []\n",
    "file_object = open(\"./wordsim_data/SimVerb-3000-test.txt\", 'r', encoding='utf-8')\n",
    "for line in file_object:\n",
    "    line = line.split()\n",
    "    simverb.append([line[0], line[1], float(line[3])])\n",
    "file_object.close()\n",
    "\n",
    "def read_word_vecs(filename):\n",
    "    print(\"Vectors read from\", filename)\n",
    "    wordVectors = {}\n",
    "    if filename.endswith('.gz'): fileObject = gzip.open(filename, 'r')\n",
    "    elif filename.endswith('.h5'):\n",
    "        fileObject_ = h5py.File(filename, 'r')\n",
    "        fileObject = fileObject_[list(fileObject_.keys())[0]]\n",
    "        wordlist = np.array(fileObject[u'axis1'])\n",
    "        pbar = tqdm_notebook(total = len(wordlist))\n",
    "        unk_counter = 0\n",
    "        for i, w in enumerate(wordlist):\n",
    "            pbar.update(1)\n",
    "            wordVectors[w[6:]] = fileObject[u'block0_values'][i]\n",
    "        pbar.close()\n",
    "    else:\n",
    "        fileObject = open(filename, 'r')\n",
    "        fileObject.readline() # For handling First Line\n",
    "        for line in fileObject:\n",
    "            line = line.strip()\n",
    "            word = line.split()[0]\n",
    "            wordVectors[word] = np.zeros(len(line.split())-1, dtype=np.float64)\n",
    "            vector = line.split()[1:]\n",
    "            if len(vector) == 300:\n",
    "                for index, vecVal in enumerate(vector):\n",
    "                    wordVectors[word][index] = float(vecVal)\n",
    "                if False:\n",
    "                    wordVectors[word] = wordVectors[word] / math.sqrt((wordVectors[word]**2).sum() + 1e-5)\n",
    "            else:\n",
    "                print(line)\n",
    "                continue\n",
    "    return wordVectors\n",
    "\n",
    "### Evaluator\n",
    "def Evaluation(model_name, tokenizer, data):\n",
    "    model_score = []; human_score = []\n",
    "    model_name.eval()\n",
    "    for d in data:\n",
    "        w1, w2, score = d\n",
    "#         print(w1, w2, score, end=' ')\n",
    "        w1, w2 = w1.lower().strip(), w2.lower().strip()\n",
    "        w1 = tokenizer(w1, return_tensors=\"pt\", add_special_tokens=True)\n",
    "        w2 = tokenizer(w2, return_tensors=\"pt\", add_special_tokens=True)\n",
    "        w1 = { k: v.to(device) for k, v in w1.items() }\n",
    "        w2 = { k: v.to(device) for k, v in w2.items() }\n",
    "        \n",
    "        with torch.no_grad():\n",
    "            w1 = model_name(**w1)[\"last_hidden_state\"][:,0,:]\n",
    "            w2 = model_name(**w2)[\"last_hidden_state\"][:,0,:]\n",
    "        model_score.append(cos(w1,w2).to('cpu').item())\n",
    "        human_score.append(score)\n",
    "    return round(stats.spearmanr(model_score, human_score)[0], 4)\n",
    "\n",
    "def StaticEvaluation(model_name, data):\n",
    "    model_score = []; human_score = []\n",
    "    for d in data:\n",
    "        w1, w2, score = d\n",
    "        w1 = w1.lower()\n",
    "        w2 = w2.lower()\n",
    "        if w1 in model_name:\n",
    "            w1 = torch.tensor(model_name[w1]).unsqueeze(0)\n",
    "        else:\n",
    "            w1 = torch.rand(1, 300)\n",
    "        if w2 in model_name:\n",
    "            w2 = torch.tensor(model_name[w2]).unsqueeze(0)\n",
    "        else:\n",
    "            w2 = torch.rand(1, 300)\n",
    "        model_score.append(cos(w1,w2).to('cpu').item())\n",
    "        human_score.append(score)\n",
    "    return round(stats.spearmanr(model_score, human_score)[0], 4)\n",
    "\n",
    "def ConcatEvaluation(model_names, data):\n",
    "    model_score = []; human_score = []\n",
    "    for d in data:\n",
    "        w1, w2, score = d\n",
    "        w1 = torch.tensor([Tokenizer.encode(w1)])#.to(device)\n",
    "        w2 = torch.tensor([Tokenizer.encode(w2)])#.to(device)\n",
    "        with torch.no_grad():\n",
    "            w1 = torch.cat((model_names[0](w1)[0][:,0,:], model_names[1](w1)[0][:,0,:]), 1)\n",
    "            w2 = torch.cat((model_names[0](w2)[0][:,0,:], model_names[1](w2)[0][:,0,:]), 1)\n",
    "        model_score.append(cos(w1,w2).to('cpu').item())\n",
    "        human_score.append(score)\n",
    "    return round(stats.spearmanr(model_score, human_score)[0], 4)"
   ]
  },
  {
   "cell_type": "code",
   "execution_count": 8,
   "metadata": {},
   "outputs": [
    {
     "name": "stdout",
     "output_type": "stream",
     "text": [
      "WordSim353(Sim) Score 0.7158\n",
      "WordSim353(Rel) Score 0.5179\n",
      "RareWords Score 0.4674\n",
      "MEN(Test) Score 0.7648\n",
      "SEM(Test) Score 0.5868\n",
      "SimLex Score 0.5324\n",
      "SimVerb Score 0.4109\n",
      "====================\n",
      "Avg. 0.5708571428571428\n",
      "====================\n"
     ]
    }
   ],
   "source": [
    "from transformers import AutoTokenizer, AutoModel\n",
    "\n",
    "# ModelName = 'bert-base-uncased'\n",
    "# ModelName = 'bert-large-uncased'\n",
    "# ModelName = 'roberta-base'\n",
    "# ModelName = 'sentence-transformers/bert-base-nli-stsb-mean-tokens'\n",
    "# ModelName = '/ckpt/def-bert/GlossBERT/'\n",
    "# ModelName = '/ckpt/def-bert/save/mlm/bert/checkpoint-21605/'\n",
    "# ModelName = '/ckpt/def-bert/save/W[CLS]-D[CLS]/'\n",
    "# ModelName = '/ckpt/def-bert/save/D[CLS]-E[TGT]/'\n",
    "# ModelName = '/ckpt/def-bert/save/W[CLS]-W[TGT]/'\n",
    "# ModelName = '/ckpt/def-bert/save/W[CLS]-E[TGT]/'\n",
    "# ModelName = '/ckpt/def-bert/save/W[CLS]-W[TGT]+W[CLS]-D[CLS]/'\n",
    "# ModelName = '/ckpt/def-bert/save/W[CLS]-E[TGT]+W[CLS]-D[CLS]/'\n",
    "# ModelName = '/ckpt/def-bert/save/W[CLS]-W[TGT]+D[CLS]-E[TGT]/'\n",
    "# ModelName = '/ckpt/def-bert/save/W[CLS]-E[TGT]+D[CLS]-E[TGT]/'\n",
    "# ModelName = './save/WD+DE+WW+WE_best/'\n",
    "ModelName = './save/WE+WD+DE+WW/'\n",
    "\n",
    "Tokenizer = AutoTokenizer.from_pretrained(ModelName)\n",
    "Embedding = AutoModel.from_pretrained(ModelName)\n",
    "\n",
    "Embedding = Embedding.to(device)\n",
    "WS_simScore = Evaluation(Embedding, Tokenizer, wordsim_sim)\n",
    "WS_relScore = Evaluation(Embedding, Tokenizer, wordsim_rel)\n",
    "RWScore = Evaluation(Embedding, Tokenizer, rw)\n",
    "MENScore = Evaluation(Embedding, Tokenizer, men)\n",
    "SEMScore = Evaluation(Embedding, Tokenizer, sem)\n",
    "SLScore = Evaluation(Embedding, Tokenizer, simlex)\n",
    "SVScore = Evaluation(Embedding, Tokenizer, simverb)\n",
    "\n",
    "# WS_simScore = StaticEvaluation(Embedding, wordsim_sim)\n",
    "# WS_relScore = StaticEvaluation(Embedding, wordsim_rel)\n",
    "# RWScore = StaticEvaluation(Embedding, rw)\n",
    "# MENScore = StaticEvaluation(Embedding, men)\n",
    "# SEMScore = StaticEvaluation(Embedding, sem)\n",
    "# SLScore = StaticEvaluation(Embedding, simlex)\n",
    "# SVScore = StaticEvaluation(Embedding, simverb)\n",
    "\n",
    "print('WordSim353(Sim) Score', WS_simScore)\n",
    "print('WordSim353(Rel) Score', WS_relScore)\n",
    "print('RareWords Score', RWScore)\n",
    "print('MEN(Test) Score', MENScore)\n",
    "print('SEM(Test) Score', SEMScore)\n",
    "print('SimLex Score', SLScore)\n",
    "print('SimVerb Score', SVScore)\n",
    "print(\"=\"*20)\n",
    "print(\"Avg.\", (WS_simScore+WS_relScore+RWScore+MENScore+SEMScore+\\\n",
    "               SLScore+SVScore)/7)\n",
    "print(\"=\"*20)\n"
   ]
  },
  {
   "cell_type": "code",
   "execution_count": null,
   "metadata": {},
   "outputs": [],
   "source": []
  }
 ],
 "metadata": {
  "kernelspec": {
   "display_name": "Python 3",
   "language": "python",
   "name": "python3"
  },
  "language_info": {
   "codemirror_mode": {
    "name": "ipython",
    "version": 3
   },
   "file_extension": ".py",
   "mimetype": "text/x-python",
   "name": "python",
   "nbconvert_exporter": "python",
   "pygments_lexer": "ipython3",
   "version": "3.8.10"
  },
  "widgets": {
   "application/vnd.jupyter.widget-state+json": {
    "state": {
     "00000dd090f34e6e9b64ad242e46927e": {
      "model_module": "@jupyter-widgets/controls",
      "model_module_version": "1.5.0",
      "model_name": "FloatProgressModel",
      "state": {
       "bar_style": "success",
       "layout": "IPY_MODEL_ffe6cc96faa540c6ab801450ff7bd71b",
       "max": 14254,
       "style": "IPY_MODEL_b2abcd45700746dc87eb6bf45646ead4",
       "value": 14254
      }
     },
     "0014c164f93e4b90ad9314bcf0961434": {
      "model_module": "@jupyter-widgets/controls",
      "model_module_version": "1.5.0",
      "model_name": "DescriptionStyleModel",
      "state": {
       "description_width": ""
      }
     },
     "02ba8dc37f124ec49470b60fb30023d6": {
      "model_module": "@jupyter-widgets/controls",
      "model_module_version": "1.5.0",
      "model_name": "DescriptionStyleModel",
      "state": {
       "description_width": ""
      }
     },
     "03f77e885f87495ca20a953a72c15a3c": {
      "model_module": "@jupyter-widgets/base",
      "model_module_version": "1.2.0",
      "model_name": "LayoutModel",
      "state": {}
     },
     "0798baf597434dc89599c3d9e6f41a20": {
      "model_module": "@jupyter-widgets/controls",
      "model_module_version": "1.5.0",
      "model_name": "ProgressStyleModel",
      "state": {
       "description_width": ""
      }
     },
     "11f9a2eddf39454b95bf1d3c2d039c73": {
      "model_module": "@jupyter-widgets/controls",
      "model_module_version": "1.5.0",
      "model_name": "HTMLModel",
      "state": {
       "layout": "IPY_MODEL_29d20d78c0014a1588fc92ed077c475c",
       "style": "IPY_MODEL_a399777f7c2f4126aa17e71c2dff742c"
      }
     },
     "14031477cd38416d93c4a2c49a06207d": {
      "model_module": "@jupyter-widgets/controls",
      "model_module_version": "1.5.0",
      "model_name": "HTMLModel",
      "state": {
       "layout": "IPY_MODEL_4278851b6c184a05b96feccae996d11b",
       "style": "IPY_MODEL_1a368756760f454a807a05c113fd8e2c",
       "value": " 14254/14254 [00:45&lt;00:00, 542.90it/s]"
      }
     },
     "1699457463964275afeefbddb8acb4c4": {
      "model_module": "@jupyter-widgets/controls",
      "model_module_version": "1.5.0",
      "model_name": "HTMLModel",
      "state": {
       "layout": "IPY_MODEL_238d4cbb1f92455283daea270858c890",
       "style": "IPY_MODEL_683f7c0a22cc4924813078cb351dce14",
       "value": " 2/10 [20:39:48&lt;82:41:45, 37213.17s/it]"
      }
     },
     "16c51821522c4126bcd8f5f86372c984": {
      "model_module": "@jupyter-widgets/base",
      "model_module_version": "1.2.0",
      "model_name": "LayoutModel",
      "state": {}
     },
     "1a368756760f454a807a05c113fd8e2c": {
      "model_module": "@jupyter-widgets/controls",
      "model_module_version": "1.5.0",
      "model_name": "DescriptionStyleModel",
      "state": {
       "description_width": ""
      }
     },
     "1b40bd7d37814145a45f72db711bf50b": {
      "model_module": "@jupyter-widgets/base",
      "model_module_version": "1.2.0",
      "model_name": "LayoutModel",
      "state": {}
     },
     "1d9f7c64a59a476fa3f6f68f0dd573a1": {
      "model_module": "@jupyter-widgets/base",
      "model_module_version": "1.2.0",
      "model_name": "LayoutModel",
      "state": {}
     },
     "1e36f9ab2f634b08b29b606723ac7fd1": {
      "model_module": "@jupyter-widgets/controls",
      "model_module_version": "1.5.0",
      "model_name": "HTMLModel",
      "state": {
       "layout": "IPY_MODEL_1d9f7c64a59a476fa3f6f68f0dd573a1",
       "style": "IPY_MODEL_94061873360a411c92ad4d88b32236e2"
      }
     },
     "21bf8a56551c483b87f50d1d79acafdc": {
      "model_module": "@jupyter-widgets/controls",
      "model_module_version": "1.5.0",
      "model_name": "ProgressStyleModel",
      "state": {
       "description_width": ""
      }
     },
     "238d4cbb1f92455283daea270858c890": {
      "model_module": "@jupyter-widgets/base",
      "model_module_version": "1.2.0",
      "model_name": "LayoutModel",
      "state": {}
     },
     "25c92c706e3845fd98e268a7e1b373d1": {
      "model_module": "@jupyter-widgets/base",
      "model_module_version": "1.2.0",
      "model_name": "LayoutModel",
      "state": {}
     },
     "28296b3a519a49bb80389c1105672393": {
      "model_module": "@jupyter-widgets/controls",
      "model_module_version": "1.5.0",
      "model_name": "FloatProgressModel",
      "state": {
       "bar_style": "success",
       "layout": "IPY_MODEL_4b005ebbba15492697afc3516a3754dd",
       "max": 14254,
       "style": "IPY_MODEL_f0a7836cdc574dfe86df1a8b64ae3350",
       "value": 14254
      }
     },
     "29d20d78c0014a1588fc92ed077c475c": {
      "model_module": "@jupyter-widgets/base",
      "model_module_version": "1.2.0",
      "model_name": "LayoutModel",
      "state": {}
     },
     "2a04fc44f88c4b7c8398fc9bc1fb92ca": {
      "model_module": "@jupyter-widgets/controls",
      "model_module_version": "1.5.0",
      "model_name": "HBoxModel",
      "state": {
       "children": [
        "IPY_MODEL_b1a513156eac481b96807dc32ab08a4d",
        "IPY_MODEL_a7bc88158b5140298accabea841bc0e3",
        "IPY_MODEL_7e64ee47052f415d9a17b428ef26a82a"
       ],
       "layout": "IPY_MODEL_5b044227bdae491782948819a101be64"
      }
     },
     "2c9cf627c61a423a82a8545edd7ec1b1": {
      "model_module": "@jupyter-widgets/controls",
      "model_module_version": "1.5.0",
      "model_name": "DescriptionStyleModel",
      "state": {
       "description_width": ""
      }
     },
     "2de0b71f0cbe4a27909fa918132705aa": {
      "model_module": "@jupyter-widgets/controls",
      "model_module_version": "1.5.0",
      "model_name": "FloatProgressModel",
      "state": {
       "bar_style": "success",
       "layout": "IPY_MODEL_73918289acd64b34b3343814f705aaf2",
       "max": 14254,
       "style": "IPY_MODEL_0798baf597434dc89599c3d9e6f41a20",
       "value": 14254
      }
     },
     "2e4befeb4b1e458781f23eb4938ae1cb": {
      "model_module": "@jupyter-widgets/base",
      "model_module_version": "1.2.0",
      "model_name": "LayoutModel",
      "state": {}
     },
     "31f7563c7d434b658c936dfc3b47f32a": {
      "model_module": "@jupyter-widgets/base",
      "model_module_version": "1.2.0",
      "model_name": "LayoutModel",
      "state": {}
     },
     "33b09521907947b88dfb2cf6ba42cfa2": {
      "model_module": "@jupyter-widgets/controls",
      "model_module_version": "1.5.0",
      "model_name": "HBoxModel",
      "state": {
       "children": [
        "IPY_MODEL_a5a37c9961cc4484bb836b703d95a54c",
        "IPY_MODEL_68a36565e9ee46fc8f00f2d9f949c48e",
        "IPY_MODEL_c86706a53f3946209ae56a52ab9187b1"
       ],
       "layout": "IPY_MODEL_5649eef397aa4e57b27dcedaf0822503"
      }
     },
     "3536fe0abba8465e9dc427b850eb44e5": {
      "model_module": "@jupyter-widgets/controls",
      "model_module_version": "1.5.0",
      "model_name": "HTMLModel",
      "state": {
       "layout": "IPY_MODEL_93911a4403bb442c84535b879aecf6f5",
       "style": "IPY_MODEL_d7bb427380ae4e77b6e7f4b43f0901ab",
       "value": "  0%"
      }
     },
     "3a2c4781b29241f8938432b1a33b5adb": {
      "model_module": "@jupyter-widgets/base",
      "model_module_version": "1.2.0",
      "model_name": "LayoutModel",
      "state": {}
     },
     "3b0faf5a9864498da80b06f48c9ee64c": {
      "model_module": "@jupyter-widgets/controls",
      "model_module_version": "1.5.0",
      "model_name": "DescriptionStyleModel",
      "state": {
       "description_width": ""
      }
     },
     "41246300964646a3854cb41d977287f5": {
      "model_module": "@jupyter-widgets/base",
      "model_module_version": "1.2.0",
      "model_name": "LayoutModel",
      "state": {}
     },
     "4278851b6c184a05b96feccae996d11b": {
      "model_module": "@jupyter-widgets/base",
      "model_module_version": "1.2.0",
      "model_name": "LayoutModel",
      "state": {}
     },
     "445795fbcd8c4d0bae1d271cbf5e722f": {
      "model_module": "@jupyter-widgets/controls",
      "model_module_version": "1.5.0",
      "model_name": "ProgressStyleModel",
      "state": {
       "description_width": ""
      }
     },
     "4b005ebbba15492697afc3516a3754dd": {
      "model_module": "@jupyter-widgets/base",
      "model_module_version": "1.2.0",
      "model_name": "LayoutModel",
      "state": {}
     },
     "4c1599db2f8e45c6ba025abb2a4d264a": {
      "model_module": "@jupyter-widgets/controls",
      "model_module_version": "1.5.0",
      "model_name": "ProgressStyleModel",
      "state": {
       "description_width": ""
      }
     },
     "4cc73fd741e84199baffb1a8ed250e0c": {
      "model_module": "@jupyter-widgets/base",
      "model_module_version": "1.2.0",
      "model_name": "LayoutModel",
      "state": {}
     },
     "4e71796b2e1147bdb22e91373cbb3754": {
      "model_module": "@jupyter-widgets/base",
      "model_module_version": "1.2.0",
      "model_name": "LayoutModel",
      "state": {}
     },
     "4f460fe1f2f14b3ba36363c4b921eb02": {
      "model_module": "@jupyter-widgets/controls",
      "model_module_version": "1.5.0",
      "model_name": "ProgressStyleModel",
      "state": {
       "description_width": ""
      }
     },
     "5261d060b2a94951a067ebd8b1a6de9a": {
      "model_module": "@jupyter-widgets/controls",
      "model_module_version": "1.5.0",
      "model_name": "HTMLModel",
      "state": {
       "layout": "IPY_MODEL_4cc73fd741e84199baffb1a8ed250e0c",
       "style": "IPY_MODEL_0014c164f93e4b90ad9314bcf0961434",
       "value": " 14254/14254 [08:23&lt;00:00, 42.51it/s]"
      }
     },
     "5649eef397aa4e57b27dcedaf0822503": {
      "model_module": "@jupyter-widgets/base",
      "model_module_version": "1.2.0",
      "model_name": "LayoutModel",
      "state": {}
     },
     "5b044227bdae491782948819a101be64": {
      "model_module": "@jupyter-widgets/base",
      "model_module_version": "1.2.0",
      "model_name": "LayoutModel",
      "state": {}
     },
     "5b5c75e9e6d44d1abfbf3106493854bd": {
      "model_module": "@jupyter-widgets/controls",
      "model_module_version": "1.5.0",
      "model_name": "HBoxModel",
      "state": {
       "children": [
        "IPY_MODEL_3536fe0abba8465e9dc427b850eb44e5",
        "IPY_MODEL_a99f56ca561f4e94ad1d3736b2142bf4",
        "IPY_MODEL_f226b932acf24ed9b0c56cf54cd19cbd"
       ],
       "layout": "IPY_MODEL_f873e3c4e54a4f66b2761926f4827ca6"
      }
     },
     "6281411cd5e04ae980599171593cbfe9": {
      "model_module": "@jupyter-widgets/base",
      "model_module_version": "1.2.0",
      "model_name": "LayoutModel",
      "state": {}
     },
     "665f62efcb074f479cce90348faa52a0": {
      "model_module": "@jupyter-widgets/base",
      "model_module_version": "1.2.0",
      "model_name": "LayoutModel",
      "state": {}
     },
     "66a4248a472a4c028eb6eba2f176546c": {
      "model_module": "@jupyter-widgets/controls",
      "model_module_version": "1.5.0",
      "model_name": "HBoxModel",
      "state": {
       "children": [
        "IPY_MODEL_1e36f9ab2f634b08b29b606723ac7fd1",
        "IPY_MODEL_a8c0826d56d9434b9d59aac4f6b89614",
        "IPY_MODEL_7ee3a4ee85934a29ae20dece345c80c2"
       ],
       "layout": "IPY_MODEL_16c51821522c4126bcd8f5f86372c984"
      }
     },
     "683f7c0a22cc4924813078cb351dce14": {
      "model_module": "@jupyter-widgets/controls",
      "model_module_version": "1.5.0",
      "model_name": "DescriptionStyleModel",
      "state": {
       "description_width": ""
      }
     },
     "68694dcfc7654b10bab418985113b75b": {
      "model_module": "@jupyter-widgets/controls",
      "model_module_version": "1.5.0",
      "model_name": "DescriptionStyleModel",
      "state": {
       "description_width": ""
      }
     },
     "68a36565e9ee46fc8f00f2d9f949c48e": {
      "model_module": "@jupyter-widgets/controls",
      "model_module_version": "1.5.0",
      "model_name": "FloatProgressModel",
      "state": {
       "bar_style": "success",
       "layout": "IPY_MODEL_03f77e885f87495ca20a953a72c15a3c",
       "max": 1,
       "style": "IPY_MODEL_4f460fe1f2f14b3ba36363c4b921eb02",
       "value": 1
      }
     },
     "7022a7dfa6ff453eb8619ccbb2d2af1a": {
      "model_module": "@jupyter-widgets/controls",
      "model_module_version": "1.5.0",
      "model_name": "HBoxModel",
      "state": {
       "children": [
        "IPY_MODEL_ef0d40c961394daa95deb5268e9d886c",
        "IPY_MODEL_2de0b71f0cbe4a27909fa918132705aa",
        "IPY_MODEL_5261d060b2a94951a067ebd8b1a6de9a"
       ],
       "layout": "IPY_MODEL_b88ff00ae3ed48c2b3f3c2264a5de09f"
      }
     },
     "72ec8cbb7d4645bfbfe7e46a824f964f": {
      "model_module": "@jupyter-widgets/controls",
      "model_module_version": "1.5.0",
      "model_name": "HTMLModel",
      "state": {
       "layout": "IPY_MODEL_9ccbb98ade914c38ac1e6c0db4f6368d",
       "style": "IPY_MODEL_b0b7f9a8f538425d9d78342078932674",
       "value": "100%"
      }
     },
     "73918289acd64b34b3343814f705aaf2": {
      "model_module": "@jupyter-widgets/base",
      "model_module_version": "1.2.0",
      "model_name": "LayoutModel",
      "state": {}
     },
     "77343de009f544ef95a47acaf49437bd": {
      "model_module": "@jupyter-widgets/base",
      "model_module_version": "1.2.0",
      "model_name": "LayoutModel",
      "state": {}
     },
     "7bd6eae5e6cf4897a31636d0f69e8962": {
      "model_module": "@jupyter-widgets/base",
      "model_module_version": "1.2.0",
      "model_name": "LayoutModel",
      "state": {}
     },
     "7bf811bf19e24919b6c5feb561b99861": {
      "model_module": "@jupyter-widgets/controls",
      "model_module_version": "1.5.0",
      "model_name": "DescriptionStyleModel",
      "state": {
       "description_width": ""
      }
     },
     "7e64ee47052f415d9a17b428ef26a82a": {
      "model_module": "@jupyter-widgets/controls",
      "model_module_version": "1.5.0",
      "model_name": "HTMLModel",
      "state": {
       "layout": "IPY_MODEL_c4de51dbb854497db34947f945b61b00",
       "style": "IPY_MODEL_9756aa9c28df4edb97d59c23b193a77e",
       "value": " 896/754639 [00:43&lt;10:14:58, 20.43it/s]"
      }
     },
     "7ee3a4ee85934a29ae20dece345c80c2": {
      "model_module": "@jupyter-widgets/controls",
      "model_module_version": "1.5.0",
      "model_name": "HTMLModel",
      "state": {
       "layout": "IPY_MODEL_77343de009f544ef95a47acaf49437bd",
       "style": "IPY_MODEL_a46d1993de314d15b3440808cc737f14",
       "value": " 754656/? [10:18:07&lt;00:00, 23.94it/s]"
      }
     },
     "81302940287f42d2aaaccd944fbacd8b": {
      "model_module": "@jupyter-widgets/controls",
      "model_module_version": "1.5.0",
      "model_name": "FloatProgressModel",
      "state": {
       "layout": "IPY_MODEL_a7e269ff8f664c6f8dbdbb7900d1bbde",
       "max": 10,
       "style": "IPY_MODEL_8cb6d0aa5521456da0159b4eb5d2d0a0",
       "value": 2
      }
     },
     "86213a69cb574ddda8388e8363627074": {
      "model_module": "@jupyter-widgets/controls",
      "model_module_version": "1.5.0",
      "model_name": "HBoxModel",
      "state": {
       "children": [
        "IPY_MODEL_bfb3319f3c2b4bbca01767dc748ae949",
        "IPY_MODEL_00000dd090f34e6e9b64ad242e46927e",
        "IPY_MODEL_c11759a6087c44a1a85a626f07735a93"
       ],
       "layout": "IPY_MODEL_6281411cd5e04ae980599171593cbfe9"
      }
     },
     "87d50a8e2e1e4430b2e00e3cf6167b5f": {
      "model_module": "@jupyter-widgets/base",
      "model_module_version": "1.2.0",
      "model_name": "LayoutModel",
      "state": {}
     },
     "885757ef738e44af85da063caab5ff46": {
      "model_module": "@jupyter-widgets/controls",
      "model_module_version": "1.5.0",
      "model_name": "ProgressStyleModel",
      "state": {
       "description_width": ""
      }
     },
     "8957c63678f64b26812407b378027130": {
      "model_module": "@jupyter-widgets/base",
      "model_module_version": "1.2.0",
      "model_name": "LayoutModel",
      "state": {}
     },
     "8b41e4a1781c4d86b0de8028a66ea960": {
      "model_module": "@jupyter-widgets/controls",
      "model_module_version": "1.5.0",
      "model_name": "ProgressStyleModel",
      "state": {
       "description_width": ""
      }
     },
     "8cb6d0aa5521456da0159b4eb5d2d0a0": {
      "model_module": "@jupyter-widgets/controls",
      "model_module_version": "1.5.0",
      "model_name": "ProgressStyleModel",
      "state": {
       "description_width": ""
      }
     },
     "8d58611fbf604deca900417307d12d07": {
      "model_module": "@jupyter-widgets/base",
      "model_module_version": "1.2.0",
      "model_name": "LayoutModel",
      "state": {}
     },
     "8df4fdd794de40909948d4df0de11a70": {
      "model_module": "@jupyter-widgets/base",
      "model_module_version": "1.2.0",
      "model_name": "LayoutModel",
      "state": {}
     },
     "90f75c4ae61e4fc7ad93ea12517e86ce": {
      "model_module": "@jupyter-widgets/base",
      "model_module_version": "1.2.0",
      "model_name": "LayoutModel",
      "state": {}
     },
     "93911a4403bb442c84535b879aecf6f5": {
      "model_module": "@jupyter-widgets/base",
      "model_module_version": "1.2.0",
      "model_name": "LayoutModel",
      "state": {}
     },
     "94061873360a411c92ad4d88b32236e2": {
      "model_module": "@jupyter-widgets/controls",
      "model_module_version": "1.5.0",
      "model_name": "DescriptionStyleModel",
      "state": {
       "description_width": ""
      }
     },
     "95b02653318d4ebe9e23adf545b609cb": {
      "model_module": "@jupyter-widgets/controls",
      "model_module_version": "1.5.0",
      "model_name": "HBoxModel",
      "state": {
       "children": [
        "IPY_MODEL_c829cd140df34628a1fd95e422c88a47",
        "IPY_MODEL_28296b3a519a49bb80389c1105672393",
        "IPY_MODEL_ad81db5a79c9433f8aeba5a23b73c210"
       ],
       "layout": "IPY_MODEL_c2cbcc974e5c478a977e4ce6b2c2ff15"
      }
     },
     "9756aa9c28df4edb97d59c23b193a77e": {
      "model_module": "@jupyter-widgets/controls",
      "model_module_version": "1.5.0",
      "model_name": "DescriptionStyleModel",
      "state": {
       "description_width": ""
      }
     },
     "9ccbb98ade914c38ac1e6c0db4f6368d": {
      "model_module": "@jupyter-widgets/base",
      "model_module_version": "1.2.0",
      "model_name": "LayoutModel",
      "state": {}
     },
     "9f162826d39146589db48f4a2dbe9b92": {
      "model_module": "@jupyter-widgets/controls",
      "model_module_version": "1.5.0",
      "model_name": "HBoxModel",
      "state": {
       "children": [
        "IPY_MODEL_11f9a2eddf39454b95bf1d3c2d039c73",
        "IPY_MODEL_ab278838b8b1454eba409a4503d10250",
        "IPY_MODEL_ad77fc906d344c67bbe8a8b3734947bb"
       ],
       "layout": "IPY_MODEL_b0d49d4e4c1546669ec218a1f4cbbeb2"
      }
     },
     "9fea727ec31843b6ba6eca9965d1fbd7": {
      "model_module": "@jupyter-widgets/base",
      "model_module_version": "1.2.0",
      "model_name": "LayoutModel",
      "state": {}
     },
     "a399777f7c2f4126aa17e71c2dff742c": {
      "model_module": "@jupyter-widgets/controls",
      "model_module_version": "1.5.0",
      "model_name": "DescriptionStyleModel",
      "state": {
       "description_width": ""
      }
     },
     "a44fd01adbc241169f99408c914aa7e7": {
      "model_module": "@jupyter-widgets/controls",
      "model_module_version": "1.5.0",
      "model_name": "DescriptionStyleModel",
      "state": {
       "description_width": ""
      }
     },
     "a46d1993de314d15b3440808cc737f14": {
      "model_module": "@jupyter-widgets/controls",
      "model_module_version": "1.5.0",
      "model_name": "DescriptionStyleModel",
      "state": {
       "description_width": ""
      }
     },
     "a5a37c9961cc4484bb836b703d95a54c": {
      "model_module": "@jupyter-widgets/controls",
      "model_module_version": "1.5.0",
      "model_name": "HTMLModel",
      "state": {
       "layout": "IPY_MODEL_e6064641729d440ead11db4003e3f2ab",
       "style": "IPY_MODEL_2c9cf627c61a423a82a8545edd7ec1b1"
      }
     },
     "a7bc88158b5140298accabea841bc0e3": {
      "model_module": "@jupyter-widgets/controls",
      "model_module_version": "1.5.0",
      "model_name": "FloatProgressModel",
      "state": {
       "layout": "IPY_MODEL_9fea727ec31843b6ba6eca9965d1fbd7",
       "max": 754639,
       "style": "IPY_MODEL_cd44ff4d58504e53849fd52be867b333",
       "value": 896
      }
     },
     "a7e269ff8f664c6f8dbdbb7900d1bbde": {
      "model_module": "@jupyter-widgets/base",
      "model_module_version": "1.2.0",
      "model_name": "LayoutModel",
      "state": {}
     },
     "a8c0826d56d9434b9d59aac4f6b89614": {
      "model_module": "@jupyter-widgets/controls",
      "model_module_version": "1.5.0",
      "model_name": "FloatProgressModel",
      "state": {
       "bar_style": "success",
       "layout": "IPY_MODEL_8d58611fbf604deca900417307d12d07",
       "max": 754639,
       "style": "IPY_MODEL_21bf8a56551c483b87f50d1d79acafdc",
       "value": 754639
      }
     },
     "a99f56ca561f4e94ad1d3736b2142bf4": {
      "model_module": "@jupyter-widgets/controls",
      "model_module_version": "1.5.0",
      "model_name": "FloatProgressModel",
      "state": {
       "layout": "IPY_MODEL_8957c63678f64b26812407b378027130",
       "max": 10,
       "style": "IPY_MODEL_4c1599db2f8e45c6ba025abb2a4d264a"
      }
     },
     "ab278838b8b1454eba409a4503d10250": {
      "model_module": "@jupyter-widgets/controls",
      "model_module_version": "1.5.0",
      "model_name": "FloatProgressModel",
      "state": {
       "bar_style": "success",
       "layout": "IPY_MODEL_25c92c706e3845fd98e268a7e1b373d1",
       "max": 754639,
       "style": "IPY_MODEL_8b41e4a1781c4d86b0de8028a66ea960",
       "value": 754639
      }
     },
     "ad77fc906d344c67bbe8a8b3734947bb": {
      "model_module": "@jupyter-widgets/controls",
      "model_module_version": "1.5.0",
      "model_name": "HTMLModel",
      "state": {
       "layout": "IPY_MODEL_fc83dc7b43b841e59a3db344746e7cf1",
       "style": "IPY_MODEL_02ba8dc37f124ec49470b60fb30023d6",
       "value": " 754656/? [10:18:01&lt;00:00, 23.99it/s]"
      }
     },
     "ad81db5a79c9433f8aeba5a23b73c210": {
      "model_module": "@jupyter-widgets/controls",
      "model_module_version": "1.5.0",
      "model_name": "HTMLModel",
      "state": {
       "layout": "IPY_MODEL_1b40bd7d37814145a45f72db711bf50b",
       "style": "IPY_MODEL_7bf811bf19e24919b6c5feb561b99861",
       "value": " 14254/14254 [00:02&lt;00:00, 5057.68it/s]"
      }
     },
     "b0b7f9a8f538425d9d78342078932674": {
      "model_module": "@jupyter-widgets/controls",
      "model_module_version": "1.5.0",
      "model_name": "DescriptionStyleModel",
      "state": {
       "description_width": ""
      }
     },
     "b0d49d4e4c1546669ec218a1f4cbbeb2": {
      "model_module": "@jupyter-widgets/base",
      "model_module_version": "1.2.0",
      "model_name": "LayoutModel",
      "state": {}
     },
     "b128b126fc5547908c08214cdf38c0d0": {
      "model_module": "@jupyter-widgets/base",
      "model_module_version": "1.2.0",
      "model_name": "LayoutModel",
      "state": {}
     },
     "b1a513156eac481b96807dc32ab08a4d": {
      "model_module": "@jupyter-widgets/controls",
      "model_module_version": "1.5.0",
      "model_name": "HTMLModel",
      "state": {
       "layout": "IPY_MODEL_3a2c4781b29241f8938432b1a33b5adb",
       "style": "IPY_MODEL_a44fd01adbc241169f99408c914aa7e7",
       "value": "  0%"
      }
     },
     "b2abcd45700746dc87eb6bf45646ead4": {
      "model_module": "@jupyter-widgets/controls",
      "model_module_version": "1.5.0",
      "model_name": "ProgressStyleModel",
      "state": {
       "description_width": ""
      }
     },
     "b349be30c16b448a9786b4ddd6984681": {
      "model_module": "@jupyter-widgets/controls",
      "model_module_version": "1.5.0",
      "model_name": "HTMLModel",
      "state": {
       "layout": "IPY_MODEL_b128b126fc5547908c08214cdf38c0d0",
       "style": "IPY_MODEL_c3dbfa1d362d4000aead0cf11b7c42c8",
       "value": " 20%"
      }
     },
     "b652e7250ca345519ff72f41895a39db": {
      "model_module": "@jupyter-widgets/controls",
      "model_module_version": "1.5.0",
      "model_name": "DescriptionStyleModel",
      "state": {
       "description_width": ""
      }
     },
     "b70666b565ee45c687b95a0d4e601a12": {
      "model_module": "@jupyter-widgets/controls",
      "model_module_version": "1.5.0",
      "model_name": "HTMLModel",
      "state": {
       "layout": "IPY_MODEL_4e71796b2e1147bdb22e91373cbb3754",
       "style": "IPY_MODEL_dbbed70d0f0d4a4aa436db9f363b4799",
       "value": "  0%"
      }
     },
     "b88ff00ae3ed48c2b3f3c2264a5de09f": {
      "model_module": "@jupyter-widgets/base",
      "model_module_version": "1.2.0",
      "model_name": "LayoutModel",
      "state": {}
     },
     "bc421dcead3c457eae92c8c9f9e66bab": {
      "model_module": "@jupyter-widgets/controls",
      "model_module_version": "1.5.0",
      "model_name": "HTMLModel",
      "state": {
       "layout": "IPY_MODEL_665f62efcb074f479cce90348faa52a0",
       "style": "IPY_MODEL_ffcf3f8d64cb4fcc933c5eaafdb861a0",
       "value": " 0/754639 [00:00&lt;?, ?it/s]"
      }
     },
     "bf72c41fa05547c5a0328dcfe33e0166": {
      "model_module": "@jupyter-widgets/base",
      "model_module_version": "1.2.0",
      "model_name": "LayoutModel",
      "state": {}
     },
     "bfb3319f3c2b4bbca01767dc748ae949": {
      "model_module": "@jupyter-widgets/controls",
      "model_module_version": "1.5.0",
      "model_name": "HTMLModel",
      "state": {
       "layout": "IPY_MODEL_31f7563c7d434b658c936dfc3b47f32a",
       "style": "IPY_MODEL_3b0faf5a9864498da80b06f48c9ee64c",
       "value": "100%"
      }
     },
     "c11759a6087c44a1a85a626f07735a93": {
      "model_module": "@jupyter-widgets/controls",
      "model_module_version": "1.5.0",
      "model_name": "HTMLModel",
      "state": {
       "layout": "IPY_MODEL_c9766204e7e649e3803ce6dcd16e976b",
       "style": "IPY_MODEL_d8a13c0c2ffc4adba8b25939967c030e",
       "value": " 14254/14254 [09:04&lt;00:00, 41.96it/s]"
      }
     },
     "c2cbcc974e5c478a977e4ce6b2c2ff15": {
      "model_module": "@jupyter-widgets/base",
      "model_module_version": "1.2.0",
      "model_name": "LayoutModel",
      "state": {}
     },
     "c2f68d2a463740a09c901554a23882dd": {
      "model_module": "@jupyter-widgets/controls",
      "model_module_version": "1.5.0",
      "model_name": "HBoxModel",
      "state": {
       "children": [
        "IPY_MODEL_b349be30c16b448a9786b4ddd6984681",
        "IPY_MODEL_81302940287f42d2aaaccd944fbacd8b",
        "IPY_MODEL_1699457463964275afeefbddb8acb4c4"
       ],
       "layout": "IPY_MODEL_8df4fdd794de40909948d4df0de11a70"
      }
     },
     "c3dbfa1d362d4000aead0cf11b7c42c8": {
      "model_module": "@jupyter-widgets/controls",
      "model_module_version": "1.5.0",
      "model_name": "DescriptionStyleModel",
      "state": {
       "description_width": ""
      }
     },
     "c4de51dbb854497db34947f945b61b00": {
      "model_module": "@jupyter-widgets/base",
      "model_module_version": "1.2.0",
      "model_name": "LayoutModel",
      "state": {}
     },
     "c829cd140df34628a1fd95e422c88a47": {
      "model_module": "@jupyter-widgets/controls",
      "model_module_version": "1.5.0",
      "model_name": "HTMLModel",
      "state": {
       "layout": "IPY_MODEL_f06d54b88d9342b8b982c0997f2ea025",
       "style": "IPY_MODEL_b652e7250ca345519ff72f41895a39db",
       "value": "100%"
      }
     },
     "c86706a53f3946209ae56a52ab9187b1": {
      "model_module": "@jupyter-widgets/controls",
      "model_module_version": "1.5.0",
      "model_name": "HTMLModel",
      "state": {
       "layout": "IPY_MODEL_f99a36b0c94c4e10a2cf28666d114c50",
       "style": "IPY_MODEL_68694dcfc7654b10bab418985113b75b",
       "value": " 32946/? [00:04&lt;00:00, 6250.36it/s]"
      }
     },
     "c9766204e7e649e3803ce6dcd16e976b": {
      "model_module": "@jupyter-widgets/base",
      "model_module_version": "1.2.0",
      "model_name": "LayoutModel",
      "state": {}
     },
     "cd44ff4d58504e53849fd52be867b333": {
      "model_module": "@jupyter-widgets/controls",
      "model_module_version": "1.5.0",
      "model_name": "ProgressStyleModel",
      "state": {
       "description_width": ""
      }
     },
     "cf1ebc1ce76a402d8743e510737ec384": {
      "model_module": "@jupyter-widgets/controls",
      "model_module_version": "1.5.0",
      "model_name": "HBoxModel",
      "state": {
       "children": [
        "IPY_MODEL_72ec8cbb7d4645bfbfe7e46a824f964f",
        "IPY_MODEL_fc8bcfc313174f8b926ce639cbbdb7ec",
        "IPY_MODEL_14031477cd38416d93c4a2c49a06207d"
       ],
       "layout": "IPY_MODEL_41246300964646a3854cb41d977287f5"
      }
     },
     "d7bb427380ae4e77b6e7f4b43f0901ab": {
      "model_module": "@jupyter-widgets/controls",
      "model_module_version": "1.5.0",
      "model_name": "DescriptionStyleModel",
      "state": {
       "description_width": ""
      }
     },
     "d8a13c0c2ffc4adba8b25939967c030e": {
      "model_module": "@jupyter-widgets/controls",
      "model_module_version": "1.5.0",
      "model_name": "DescriptionStyleModel",
      "state": {
       "description_width": ""
      }
     },
     "dba2a661fdbd4d52b07551ccdde55c6b": {
      "model_module": "@jupyter-widgets/controls",
      "model_module_version": "1.5.0",
      "model_name": "DescriptionStyleModel",
      "state": {
       "description_width": ""
      }
     },
     "dbbed70d0f0d4a4aa436db9f363b4799": {
      "model_module": "@jupyter-widgets/controls",
      "model_module_version": "1.5.0",
      "model_name": "DescriptionStyleModel",
      "state": {
       "description_width": ""
      }
     },
     "df3a134dc91145cc991413a9d3620980": {
      "model_module": "@jupyter-widgets/controls",
      "model_module_version": "1.5.0",
      "model_name": "DescriptionStyleModel",
      "state": {
       "description_width": ""
      }
     },
     "e6064641729d440ead11db4003e3f2ab": {
      "model_module": "@jupyter-widgets/base",
      "model_module_version": "1.2.0",
      "model_name": "LayoutModel",
      "state": {}
     },
     "ee8ce0c2f4e64076acc68045f086269b": {
      "model_module": "@jupyter-widgets/controls",
      "model_module_version": "1.5.0",
      "model_name": "FloatProgressModel",
      "state": {
       "layout": "IPY_MODEL_2e4befeb4b1e458781f23eb4938ae1cb",
       "max": 754639,
       "style": "IPY_MODEL_885757ef738e44af85da063caab5ff46"
      }
     },
     "ef0d40c961394daa95deb5268e9d886c": {
      "model_module": "@jupyter-widgets/controls",
      "model_module_version": "1.5.0",
      "model_name": "HTMLModel",
      "state": {
       "layout": "IPY_MODEL_7bd6eae5e6cf4897a31636d0f69e8962",
       "style": "IPY_MODEL_dba2a661fdbd4d52b07551ccdde55c6b",
       "value": "100%"
      }
     },
     "f06d54b88d9342b8b982c0997f2ea025": {
      "model_module": "@jupyter-widgets/base",
      "model_module_version": "1.2.0",
      "model_name": "LayoutModel",
      "state": {}
     },
     "f0a7836cdc574dfe86df1a8b64ae3350": {
      "model_module": "@jupyter-widgets/controls",
      "model_module_version": "1.5.0",
      "model_name": "ProgressStyleModel",
      "state": {
       "description_width": ""
      }
     },
     "f226b932acf24ed9b0c56cf54cd19cbd": {
      "model_module": "@jupyter-widgets/controls",
      "model_module_version": "1.5.0",
      "model_name": "HTMLModel",
      "state": {
       "layout": "IPY_MODEL_90f75c4ae61e4fc7ad93ea12517e86ce",
       "style": "IPY_MODEL_df3a134dc91145cc991413a9d3620980",
       "value": " 0/10 [00:00&lt;?, ?it/s]"
      }
     },
     "f7a6172cbbc945a19363c5d4425f8298": {
      "model_module": "@jupyter-widgets/controls",
      "model_module_version": "1.5.0",
      "model_name": "HBoxModel",
      "state": {
       "children": [
        "IPY_MODEL_b70666b565ee45c687b95a0d4e601a12",
        "IPY_MODEL_ee8ce0c2f4e64076acc68045f086269b",
        "IPY_MODEL_bc421dcead3c457eae92c8c9f9e66bab"
       ],
       "layout": "IPY_MODEL_87d50a8e2e1e4430b2e00e3cf6167b5f"
      }
     },
     "f873e3c4e54a4f66b2761926f4827ca6": {
      "model_module": "@jupyter-widgets/base",
      "model_module_version": "1.2.0",
      "model_name": "LayoutModel",
      "state": {}
     },
     "f99a36b0c94c4e10a2cf28666d114c50": {
      "model_module": "@jupyter-widgets/base",
      "model_module_version": "1.2.0",
      "model_name": "LayoutModel",
      "state": {}
     },
     "fc83dc7b43b841e59a3db344746e7cf1": {
      "model_module": "@jupyter-widgets/base",
      "model_module_version": "1.2.0",
      "model_name": "LayoutModel",
      "state": {}
     },
     "fc8bcfc313174f8b926ce639cbbdb7ec": {
      "model_module": "@jupyter-widgets/controls",
      "model_module_version": "1.5.0",
      "model_name": "FloatProgressModel",
      "state": {
       "bar_style": "success",
       "layout": "IPY_MODEL_bf72c41fa05547c5a0328dcfe33e0166",
       "max": 14254,
       "style": "IPY_MODEL_445795fbcd8c4d0bae1d271cbf5e722f",
       "value": 14254
      }
     },
     "ffcf3f8d64cb4fcc933c5eaafdb861a0": {
      "model_module": "@jupyter-widgets/controls",
      "model_module_version": "1.5.0",
      "model_name": "DescriptionStyleModel",
      "state": {
       "description_width": ""
      }
     },
     "ffe6cc96faa540c6ab801450ff7bd71b": {
      "model_module": "@jupyter-widgets/base",
      "model_module_version": "1.2.0",
      "model_name": "LayoutModel",
      "state": {}
     }
    },
    "version_major": 2,
    "version_minor": 0
   }
  }
 },
 "nbformat": 4,
 "nbformat_minor": 4
}
